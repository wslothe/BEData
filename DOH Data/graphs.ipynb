{
 "cells": [
  {
   "cell_type": "code",
   "execution_count": 2,
   "id": "d972a913-381e-4b2e-8ce3-b443ac895b64",
   "metadata": {},
   "outputs": [],
   "source": [
    "import pandas as pd\n",
    "import numpy as np\n",
    "import matplotlib.pyplot as plt\n",
    "import seaborn as sns\n",
    "import time\n",
    "%matplotlib inline"
   ]
  },
  {
   "cell_type": "code",
   "execution_count": 39,
   "id": "e2c063b0-262b-44bc-9dd1-5dd23bc67b3a",
   "metadata": {},
   "outputs": [
    {
     "data": {
      "text/html": [
       "<div>\n",
       "<style scoped>\n",
       "    .dataframe tbody tr th:only-of-type {\n",
       "        vertical-align: middle;\n",
       "    }\n",
       "\n",
       "    .dataframe tbody tr th {\n",
       "        vertical-align: top;\n",
       "    }\n",
       "\n",
       "    .dataframe thead th {\n",
       "        text-align: right;\n",
       "    }\n",
       "</style>\n",
       "<table border=\"1\" class=\"dataframe\">\n",
       "  <thead>\n",
       "    <tr style=\"text-align: right;\">\n",
       "      <th></th>\n",
       "      <th>postcode</th>\n",
       "      <th>Positive</th>\n",
       "      <th>Negative</th>\n",
       "      <th>Cumulative Incidence</th>\n",
       "      <th>Partially Covered</th>\n",
       "      <th>Partially Covered Rate</th>\n",
       "      <th>Fully Covered</th>\n",
       "      <th>Fully Covered Rate</th>\n",
       "      <th>Population</th>\n",
       "    </tr>\n",
       "  </thead>\n",
       "  <tbody>\n",
       "    <tr>\n",
       "      <th>0</th>\n",
       "      <td>16001</td>\n",
       "      <td>2149</td>\n",
       "      <td>11676</td>\n",
       "      <td>5531.96</td>\n",
       "      <td>1156.0</td>\n",
       "      <td>2975.78</td>\n",
       "      <td>17708.0</td>\n",
       "      <td>45583.96</td>\n",
       "      <td>38847.0</td>\n",
       "    </tr>\n",
       "    <tr>\n",
       "      <th>1</th>\n",
       "      <td>16002</td>\n",
       "      <td>796</td>\n",
       "      <td>3837</td>\n",
       "      <td>5217.28</td>\n",
       "      <td>424.0</td>\n",
       "      <td>2779.05</td>\n",
       "      <td>6313.0</td>\n",
       "      <td>41377.73</td>\n",
       "      <td>15257.0</td>\n",
       "    </tr>\n",
       "    <tr>\n",
       "      <th>2</th>\n",
       "      <td>16003</td>\n",
       "      <td>19</td>\n",
       "      <td>92</td>\n",
       "      <td>NaN</td>\n",
       "      <td>5.0</td>\n",
       "      <td>NaN</td>\n",
       "      <td>66.0</td>\n",
       "      <td>NaN</td>\n",
       "      <td>NaN</td>\n",
       "    </tr>\n",
       "    <tr>\n",
       "      <th>3</th>\n",
       "      <td>16018</td>\n",
       "      <td>0</td>\n",
       "      <td>0</td>\n",
       "      <td>NaN</td>\n",
       "      <td>NaN</td>\n",
       "      <td>NaN</td>\n",
       "      <td>NaN</td>\n",
       "      <td>NaN</td>\n",
       "      <td>NaN</td>\n",
       "    </tr>\n",
       "    <tr>\n",
       "      <th>4</th>\n",
       "      <td>16020</td>\n",
       "      <td>57</td>\n",
       "      <td>258</td>\n",
       "      <td>4943.63</td>\n",
       "      <td>33.0</td>\n",
       "      <td>2862.10</td>\n",
       "      <td>390.0</td>\n",
       "      <td>33824.80</td>\n",
       "      <td>1153.0</td>\n",
       "    </tr>\n",
       "  </tbody>\n",
       "</table>\n",
       "</div>"
      ],
      "text/plain": [
       "   postcode  Positive  Negative  Cumulative Incidence  Partially Covered  \\\n",
       "0     16001      2149     11676               5531.96             1156.0   \n",
       "1     16002       796      3837               5217.28              424.0   \n",
       "2     16003        19        92                   NaN                5.0   \n",
       "3     16018         0         0                   NaN                NaN   \n",
       "4     16020        57       258               4943.63               33.0   \n",
       "\n",
       "   Partially Covered Rate  Fully Covered  Fully Covered Rate  Population  \n",
       "0                 2975.78        17708.0            45583.96     38847.0  \n",
       "1                 2779.05         6313.0            41377.73     15257.0  \n",
       "2                     NaN           66.0                 NaN         NaN  \n",
       "3                     NaN            NaN                 NaN         NaN  \n",
       "4                 2862.10          390.0            33824.80      1153.0  "
      ]
     },
     "execution_count": 39,
     "metadata": {},
     "output_type": "execute_result"
    }
   ],
   "source": [
    "datestr = time.strftime(\"%Y%m%d\")\n",
    "zipvax = pd.read_csv(datestr + \"_zip_code_data.csv\")\n",
    "zipvax.head()"
   ]
  },
  {
   "cell_type": "code",
   "execution_count": 40,
   "id": "83ffc387-16cb-4042-95e5-18d1b3e8c58b",
   "metadata": {},
   "outputs": [],
   "source": [
    "zipvax = zipvax.dropna()"
   ]
  },
  {
   "cell_type": "code",
   "execution_count": 41,
   "id": "b741d57c-92a8-47ab-927e-dabbc053742f",
   "metadata": {},
   "outputs": [],
   "source": [
    "above1k = zipvax[zipvax['Population'] >= 2000]"
   ]
  },
  {
   "cell_type": "code",
   "execution_count": 42,
   "id": "542c6f6b-788d-4993-b1f2-94393f76dbc8",
   "metadata": {},
   "outputs": [],
   "source": [
    "zipvax = above1k[['postcode', 'Fully Covered Rate']]"
   ]
  },
  {
   "cell_type": "code",
   "execution_count": 43,
   "id": "eab011fc-9c9c-4e72-bb18-97e7a09b5969",
   "metadata": {},
   "outputs": [
    {
     "data": {
      "text/html": [
       "<div>\n",
       "<style scoped>\n",
       "    .dataframe tbody tr th:only-of-type {\n",
       "        vertical-align: middle;\n",
       "    }\n",
       "\n",
       "    .dataframe tbody tr th {\n",
       "        vertical-align: top;\n",
       "    }\n",
       "\n",
       "    .dataframe thead th {\n",
       "        text-align: right;\n",
       "    }\n",
       "</style>\n",
       "<table border=\"1\" class=\"dataframe\">\n",
       "  <thead>\n",
       "    <tr style=\"text-align: right;\">\n",
       "      <th></th>\n",
       "      <th>postcode</th>\n",
       "      <th>Fully Covered Rate</th>\n",
       "    </tr>\n",
       "  </thead>\n",
       "  <tbody>\n",
       "    <tr>\n",
       "      <th>0</th>\n",
       "      <td>16001</td>\n",
       "      <td>45583.96</td>\n",
       "    </tr>\n",
       "    <tr>\n",
       "      <th>1</th>\n",
       "      <td>16002</td>\n",
       "      <td>41377.73</td>\n",
       "    </tr>\n",
       "    <tr>\n",
       "      <th>6</th>\n",
       "      <td>16023</td>\n",
       "      <td>43946.19</td>\n",
       "    </tr>\n",
       "    <tr>\n",
       "      <th>8</th>\n",
       "      <td>16025</td>\n",
       "      <td>39256.83</td>\n",
       "    </tr>\n",
       "    <tr>\n",
       "      <th>13</th>\n",
       "      <td>16033</td>\n",
       "      <td>51293.93</td>\n",
       "    </tr>\n",
       "  </tbody>\n",
       "</table>\n",
       "</div>"
      ],
      "text/plain": [
       "    postcode  Fully Covered Rate\n",
       "0      16001            45583.96\n",
       "1      16002            41377.73\n",
       "6      16023            43946.19\n",
       "8      16025            39256.83\n",
       "13     16033            51293.93"
      ]
     },
     "execution_count": 43,
     "metadata": {},
     "output_type": "execute_result"
    }
   ],
   "source": [
    "zipvax.head()"
   ]
  },
  {
   "cell_type": "code",
   "execution_count": 44,
   "id": "618847e8-9720-48ca-b4a9-930c5cb32821",
   "metadata": {},
   "outputs": [
    {
     "data": {
      "text/plain": [
       "<seaborn.axisgrid.FacetGrid at 0xc2cb5e0>"
      ]
     },
     "execution_count": 44,
     "metadata": {},
     "output_type": "execute_result"
    },
    {
     "data": {
      "image/png": "[encoded data removed]",
      "text/plain": [
       "<Figure size 360x360 with 1 Axes>"
      ]
     },
     "metadata": {
      "needs_background": "light"
     },
     "output_type": "display_data"
    }
   ],
   "source": [
    "sns.catplot(x='postcode', y='Fully Covered Rate', data=zipvax, kind=\"bar\", palette=\"muted\")"
   ]
  },
  {
   "cell_type": "code",
   "execution_count": null,
   "id": "f2bb09e7-f17e-4f86-a17d-6ed74e64d388",
   "metadata": {},
   "outputs": [],
   "source": []
  }
 ],
 "metadata": {
  "kernelspec": {
   "display_name": "Python 3",
   "language": "python",
   "name": "python3"
  },
  "language_info": {
   "codemirror_mode": {
    "name": "ipython",
    "version": 3
   },
   "file_extension": ".py",
   "mimetype": "text/x-python",
   "name": "python",
   "nbconvert_exporter": "python",
   "pygments_lexer": "ipython3",
   "version": "3.8.8"
  }
 },
 "nbformat": 4,
 "nbformat_minor": 5
}
