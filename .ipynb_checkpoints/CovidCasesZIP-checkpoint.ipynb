{
 "cells": [
  {
   "cell_type": "code",
   "execution_count": 9,
   "id": "3dd7b2d4-512a-4424-a14a-ec624ed917e0",
   "metadata": {},
   "outputs": [],
   "source": [
    "import os\n",
    "import pandas as pd\n",
    "import numpy as np\n",
    "\n",
    "from sodapy import Socrata"
   ]
  },
  {
   "cell_type": "code",
   "execution_count": 12,
   "id": "19cfdadc-1037-4c65-8bc1-744d5cc26b72",
   "metadata": {},
   "outputs": [
    {
     "name": "stdout",
     "output_type": "stream",
     "text": [
      "env: socrata_token=qYj8uHweCfRUPR3RPqDXvV4sd\n"
     ]
    }
   ],
   "source": [
    "socrata_domain = 'data.pa.gov'\n",
    "socrata_dataset_identifier = 'tsf6-pnaf'\n",
    "%env socrata_token=qYj8uHweCfRUPR3RPqDXvV4sd"
   ]
  },
  {
   "cell_type": "code",
   "execution_count": 13,
   "id": "d0c25b6e-afaa-42e4-9442-f17c43edc708",
   "metadata": {},
   "outputs": [
    {
     "name": "stderr",
     "output_type": "stream",
     "text": [
      "WARNING:root:Requests made without an app_token will be subject to strict throttling limits.\n"
     ]
    }
   ],
   "source": [
    "client = Socrata (socrata_domain, socrata_token)"
   ]
  },
  {
   "cell_type": "code",
   "execution_count": 14,
   "id": "8f03e5de-1bc0-4498-b3c6-2ebf00d82da8",
   "metadata": {},
   "outputs": [
    {
     "data": {
      "text/html": [
       "<div>\n",
       "<style scoped>\n",
       "    .dataframe tbody tr th:only-of-type {\n",
       "        vertical-align: middle;\n",
       "    }\n",
       "\n",
       "    .dataframe tbody tr th {\n",
       "        vertical-align: top;\n",
       "    }\n",
       "\n",
       "    .dataframe thead th {\n",
       "        text-align: right;\n",
       "    }\n",
       "</style>\n",
       "<table border=\"1\" class=\"dataframe\">\n",
       "  <thead>\n",
       "    <tr style=\"text-align: right;\">\n",
       "      <th></th>\n",
       "      <th>postcode</th>\n",
       "      <th>positive</th>\n",
       "      <th>probable</th>\n",
       "      <th>negative</th>\n",
       "      <th>georeferenced_zip_code</th>\n",
       "      <th>:@computed_region_nmsq_hqvv</th>\n",
       "    </tr>\n",
       "  </thead>\n",
       "  <tbody>\n",
       "    <tr>\n",
       "      <th>0</th>\n",
       "      <td>15430</td>\n",
       "      <td>24</td>\n",
       "      <td>13</td>\n",
       "      <td>84</td>\n",
       "      <td>{'type': 'Point', 'coordinates': [-79.66021, 4...</td>\n",
       "      <td>31</td>\n",
       "    </tr>\n",
       "    <tr>\n",
       "      <th>1</th>\n",
       "      <td>16375</td>\n",
       "      <td>NaN</td>\n",
       "      <td>0</td>\n",
       "      <td>10</td>\n",
       "      <td>{'type': 'Point', 'coordinates': [-79.635407, ...</td>\n",
       "      <td>7</td>\n",
       "    </tr>\n",
       "    <tr>\n",
       "      <th>2</th>\n",
       "      <td>15533</td>\n",
       "      <td>79</td>\n",
       "      <td>41</td>\n",
       "      <td>255</td>\n",
       "      <td>{'type': 'Point', 'coordinates': [-78.245418, ...</td>\n",
       "      <td>43</td>\n",
       "    </tr>\n",
       "    <tr>\n",
       "      <th>3</th>\n",
       "      <td>15540</td>\n",
       "      <td>11</td>\n",
       "      <td>9</td>\n",
       "      <td>71</td>\n",
       "      <td>{'type': 'Point', 'coordinates': [-79.232303, ...</td>\n",
       "      <td>66</td>\n",
       "    </tr>\n",
       "    <tr>\n",
       "      <th>4</th>\n",
       "      <td>19187</td>\n",
       "      <td>0</td>\n",
       "      <td>0</td>\n",
       "      <td>NaN</td>\n",
       "      <td>{'type': 'Point', 'coordinates': [-75.16562, 3...</td>\n",
       "      <td>13</td>\n",
       "    </tr>\n",
       "  </tbody>\n",
       "</table>\n",
       "</div>"
      ],
      "text/plain": [
       "  postcode positive probable negative  \\\n",
       "0    15430       24       13       84   \n",
       "1    16375      NaN        0       10   \n",
       "2    15533       79       41      255   \n",
       "3    15540       11        9       71   \n",
       "4    19187        0        0      NaN   \n",
       "\n",
       "                              georeferenced_zip_code  \\\n",
       "0  {'type': 'Point', 'coordinates': [-79.66021, 4...   \n",
       "1  {'type': 'Point', 'coordinates': [-79.635407, ...   \n",
       "2  {'type': 'Point', 'coordinates': [-78.245418, ...   \n",
       "3  {'type': 'Point', 'coordinates': [-79.232303, ...   \n",
       "4  {'type': 'Point', 'coordinates': [-75.16562, 3...   \n",
       "\n",
       "  :@computed_region_nmsq_hqvv  \n",
       "0                          31  \n",
       "1                           7  \n",
       "2                          43  \n",
       "3                          66  \n",
       "4                          13  "
      ]
     },
     "execution_count": 14,
     "metadata": {},
     "output_type": "execute_result"
    }
   ],
   "source": [
    "results = client.get(socrata_dataset_identifier)\n",
    "df = pd.DataFrame.from_dict(results)\n",
    "df.head()"
   ]
  },
  {
   "cell_type": "code",
   "execution_count": null,
   "id": "83eceb22-1a0e-48f7-9c0a-58523cdbdd83",
   "metadata": {},
   "outputs": [],
   "source": []
  }
 ],
 "metadata": {
  "kernelspec": {
   "display_name": "Python 3",
   "language": "python",
   "name": "python3"
  },
  "language_info": {
   "codemirror_mode": {
    "name": "ipython",
    "version": 3
   },
   "file_extension": ".py",
   "mimetype": "text/x-python",
   "name": "python",
   "nbconvert_exporter": "python",
   "pygments_lexer": "ipython3",
   "version": "3.8.8"
  }
 },
 "nbformat": 4,
 "nbformat_minor": 5
}
