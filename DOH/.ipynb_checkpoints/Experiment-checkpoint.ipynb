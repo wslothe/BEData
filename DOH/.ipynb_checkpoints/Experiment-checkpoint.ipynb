{
 "cells": [
  {
   "cell_type": "code",
   "execution_count": 1,
   "id": "f29ca946-aafe-49c6-a30b-581f6b9fee38",
   "metadata": {},
   "outputs": [],
   "source": [
    "import os\n",
    "import pandas as pd\n",
    "import numpy as np\n",
    "import time\n",
    "import datetime\n",
    "from dohretrieve import DOH"
   ]
  },
  {
   "cell_type": "code",
   "execution_count": 3,
   "id": "351a9875-379c-48e4-998f-c5cb709b24d7",
   "metadata": {},
   "outputs": [],
   "source": [
    "#ident, dfname, where, limit, select, sort\n",
    "zipcases = DOH('tsf6-pnaf', 'zip_code_cases', \n",
    "               'postcode between \"16001\" and \"16066\"', 42, 'postcode, positive, negative', 'postcode ASC')\n",
    "countycases = DOH('j72v-r42c', 'county_cases', \n",
    "               'county = \"Butler\"', '', 'date, county, cases, cases_rate, cases_avg_new, cases_avg_new_rate, cases_cume, cases_cume_rate', 'date DESC')\n",
    "countydailyvax = DOH('bicw-3gwi', 'county_daily_vax', \n",
    "                'county = \"Butler\"', '', 'date, county, partiallycovered, fullycovered', 'date DESC')\n",
    "countycumevax = DOH('gcnb-epac', 'county_cumulative_vax', \n",
    "                'county = \"Butler\"', '', 'county, county_population, partiallycovered, ratepartiallycovered, fullycovered, ratefullycovered', 'county ASC')\n",
    "zipcumevax = DOH('d63n-ygar', 'zip_cumulative_vax', \n",
    "                 'patient_zip_code between \"16001\" and \"16066\"', '', 'patient_zip_code, partiallycovered, fullycovered', 'patient_zip_code ASC')\n",
    "\n",
    "DOH.get_data(zipcases)\n",
    "DOH.get_data(countycases)\n",
    "DOH.get_data(countydailyvax)\n",
    "DOH.get_data(countycumevax)\n",
    "DOH.get_data(zipcumevax)\n",
    "datestr = time.strftime(\"%Y%m%d\")\n",
    "zcumevax = pd.read_csv(datestr + \"_zip_cumulative_vax.csv\")\n",
    "blankZips = [pd.Series([16018, None, None], index=['patient_zip_code', 'partiallycovered', 'fullycovered']),\n",
    "             pd.Series([16035, None, None], index=['patient_zip_code', 'partiallycovered', 'fullycovered']),\n",
    "             pd.Series([16036, None, None], index=['patient_zip_code', 'partiallycovered', 'fullycovered']),\n",
    "             pd.Series([16039, None, None], index=['patient_zip_code', 'partiallycovered', 'fullycovered']),\n",
    "             pd.Series([16058, None, None], index=['patient_zip_code', 'partiallycovered', 'fullycovered'])]\n",
    "zcumevax = zcumevax.append(blankZips, ignore_index = True)\n",
    "zcumevax = zcumevax.sort_values('patient_zip_code')\n",
    "zcumevax = zcumevax.set_index('patient_zip_code')\n",
    "zcumevax.to_csv(datestr + \"_zip_cumulative_vax.csv\")"
   ]
  },
  {
   "cell_type": "code",
   "execution_count": 4,
   "id": "3ecf018b-f41a-49e4-bef1-9cfd75879e6c",
   "metadata": {},
   "outputs": [],
   "source": [
    "#writing population and rates to main zip files\n",
    "def execfile(filepath, globals=None, locals=None):\n",
    "    if globals is None:\n",
    "        globals = {}\n",
    "    globals.update({\n",
    "        \"__file__\": filepath,\n",
    "        \"__name__\": \"__main__\",\n",
    "    })\n",
    "    with open(filepath, 'rb') as file:\n",
    "        exec(compile(file.read(), filepath, 'exec'), globals, locals)\n",
    "\n",
    "#execute the file\n",
    "execfile(\"census_and_rates.py\")"
   ]
  },
  {
   "cell_type": "code",
   "execution_count": 5,
   "id": "3baf3e99-b355-44c6-8fd4-648192a8c5dc",
   "metadata": {},
   "outputs": [],
   "source": [
    "#combining zip files\n",
    "datestr = time.strftime(\"%Y%m%d\")\n",
    "main_zip_name = (datestr + \"_zip_code_cases.csv\")\n",
    "zip_vax_name = (datestr + \"_zip_cumulative_vax.csv\")\n",
    "main_zip = pd.read_csv(main_zip_name)\n",
    "zip_vax = pd.read_csv(zip_vax_name)\n",
    "main_zip['Partially Covered'] = zip_vax['partiallycovered'].round(0)\n",
    "main_zip['Partially Covered Rate'] = zip_vax['Partially Covered Rate']\n",
    "main_zip['Fully Covered'] = zip_vax['fullycovered'].round(0)\n",
    "main_zip['Fully Covered Rate'] = zip_vax['Fully Covered Rate']"
   ]
  },
  {
   "cell_type": "code",
   "execution_count": 6,
   "id": "62fdb9a9-8218-48e3-99f8-349f870c980e",
   "metadata": {},
   "outputs": [],
   "source": [
    "#reordering and renaming columns\n",
    "main_zip = main_zip.set_index('postcode')\n",
    "main_zip = main_zip[['positive', 'negative', 'Cumulative Incidence', 'Partially Covered', \n",
    "                    'Partially Covered Rate', 'Fully Covered', 'Fully Covered Rate', 'Population']]\n",
    "main_zip = main_zip.rename(columns={'positive' : 'Positive', 'negative' : 'Negative'})"
   ]
  },
  {
   "cell_type": "code",
   "execution_count": 7,
   "id": "91589110-640d-4a0e-af5f-e9a306b4899f",
   "metadata": {},
   "outputs": [],
   "source": [
    "#saving new zip file\n",
    "newzip_name = (datestr + \"_zip_code_data.csv\")\n",
    "main_zip.to_csv(newzip_name, index = True)"
   ]
  },
  {
   "cell_type": "code",
   "execution_count": 8,
   "id": "ac55fe6e-e22f-44c6-90e6-a41dee7d4562",
   "metadata": {},
   "outputs": [],
   "source": [
    "#deleting old files\n",
    "os.remove(main_zip_name)\n",
    "os.remove(zip_vax_name)"
   ]
  }
 ],
 "metadata": {
  "kernelspec": {
   "display_name": "Python 3",
   "language": "python",
   "name": "python3"
  },
  "language_info": {
   "codemirror_mode": {
    "name": "ipython",
    "version": 3
   },
   "file_extension": ".py",
   "mimetype": "text/x-python",
   "name": "python",
   "nbconvert_exporter": "python",
   "pygments_lexer": "ipython3",
   "version": "3.8.8"
  }
 },
 "nbformat": 4,
 "nbformat_minor": 5
}
