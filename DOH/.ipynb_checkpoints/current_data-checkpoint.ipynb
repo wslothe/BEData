{
 "cells": [
  {
   "cell_type": "code",
   "execution_count": 1,
   "id": "19a5d5b1-6a18-40f7-974d-f5be6b0b1dc5",
   "metadata": {},
   "outputs": [],
   "source": [
    "import pandas as pd\n",
    "import numpy as np\n",
    "import time\n",
    "from datetime import date, timedelta\n",
    "import os"
   ]
  },
  {
   "cell_type": "code",
   "execution_count": 2,
   "id": "180ba5ee-c0d2-49bb-be84-a81ccf0d5c9a",
   "metadata": {},
   "outputs": [],
   "source": [
    "#identifying the day (in ISO 8601) so we can read the most recent file, as well as yesterday's date\n",
    "today = time.strftime(\"%Y%m%d\")\n",
    "yesterday = date.today() - timedelta(days=1)\n",
    "yesterday = yesterday.strftime(\"%Y%m%d\")\n",
    "#putting that into a more readable format\n",
    "dayofweek = time.strftime(\"%A, %b. %d, %Y\")\n",
    "#input new data as dataframes\n",
    "ctycasename = (today + \"_county_cases.csv\")\n",
    "ctycases = pd.read_csv(ctycasename)\n",
    "ctynewvaxname = (today + \"_county_daily_vax.csv\")\n",
    "ctynewvax = pd.read_csv(ctynewvaxname)\n",
    "ctytotvaxname = (today + \"_county_cumulative_vax.csv\")\n",
    "ctytotvax = pd.read_csv(ctytotvaxname)\n",
    "#defining our function\n",
    "def getnum(file, row, dataname):\n",
    "    dataname = file.iloc[[0], [row]]\n",
    "    return dataname.to_string(index = False, header = False)  "
   ]
  },
  {
   "cell_type": "code",
   "execution_count": 3,
   "id": "7666b929-4a91-408e-bd6e-a66438b5959b",
   "metadata": {},
   "outputs": [],
   "source": [
    "#getting county case info from most recent file\n",
    "newcases = getnum(ctycases, 2, 'newcases')\n",
    "newcaserate = getnum(ctycases, 3, 'newcaserate')\n",
    "sevenavg = getnum(ctycases, 4, 'sevenavg')\n",
    "sevenavgrate = getnum(ctycases, 5, 'sevenavgrate')\n",
    "cumecases = getnum(ctycases, 6, 'cumecases')\n",
    "cumerate = getnum(ctycases, 7, 'cumerate')\n",
    "newptlvax = getnum(ctynewvax, 2, 'newptlvax')\n",
    "newfullvax = getnum(ctynewvax, 3, 'newfullvax')\n",
    "totptlvax = getnum(ctytotvax, 2, 'totptlvax')\n",
    "ptlvaxrate = getnum(ctytotvax, 3, 'ptlvaxrate')\n",
    "totfullvax = getnum(ctytotvax, 4, 'totfullvax')\n",
    "fullvaxrate = getnum(ctytotvax, 5, 'fullvaxrate')"
   ]
  },
  {
   "cell_type": "code",
   "execution_count": 4,
   "id": "53bb45ba-8273-4d91-acaa-d2ccc9a08461",
   "metadata": {},
   "outputs": [
    {
     "ename": "FileExistsError",
     "evalue": "[WinError 183] Cannot create a file when that file already exists: 'new_county_data.txt' -> '20210815_county_data.txt'",
     "output_type": "error",
     "traceback": [
      "\u001b[1;31m---------------------------------------------------------------------------\u001b[0m",
      "\u001b[1;31mFileExistsError\u001b[0m                           Traceback (most recent call last)",
      "\u001b[1;32m<ipython-input-4-9f1650931ff7>\u001b[0m in \u001b[0;36m<module>\u001b[1;34m\u001b[0m\n\u001b[0;32m      2\u001b[0m \u001b[1;33m\u001b[0m\u001b[0m\n\u001b[0;32m      3\u001b[0m \u001b[0mnewfilenamecty\u001b[0m \u001b[1;33m=\u001b[0m \u001b[1;33m(\u001b[0m\u001b[0myesterday\u001b[0m \u001b[1;33m+\u001b[0m \u001b[1;34m\"_county_data.txt\"\u001b[0m\u001b[1;33m)\u001b[0m\u001b[1;33m\u001b[0m\u001b[1;33m\u001b[0m\u001b[0m\n\u001b[1;32m----> 4\u001b[1;33m \u001b[0mos\u001b[0m\u001b[1;33m.\u001b[0m\u001b[0mrename\u001b[0m\u001b[1;33m(\u001b[0m\u001b[1;34m\"new_county_data.txt\"\u001b[0m\u001b[1;33m,\u001b[0m \u001b[0mnewfilenamecty\u001b[0m\u001b[1;33m)\u001b[0m\u001b[1;33m\u001b[0m\u001b[1;33m\u001b[0m\u001b[0m\n\u001b[0m",
      "\u001b[1;31mFileExistsError\u001b[0m: [WinError 183] Cannot create a file when that file already exists: 'new_county_data.txt' -> '20210815_county_data.txt'"
     ]
    }
   ],
   "source": [
    "#before writing the data to the text files, we should first archive the current ones.\n",
    "newfilenamecty = (yesterday + \"_county_data.txt\")\n",
    "os.rename(\"new_county_data.txt\", newfilenamecty)"
   ]
  },
  {
   "cell_type": "code",
   "execution_count": 5,
   "id": "4e2202cb-9044-4868-a4a0-9633e825ad52",
   "metadata": {},
   "outputs": [],
   "source": [
    "#putting county data in text form!\n",
    "updated = (\"Updated: \" + dayofweek + \"\\n\" + \"\\n\")\n",
    "prtnewcase = (\"New cases in Butler County: \" + newcases + \"\\n\")\n",
    "prtnewrate = (\"New cases per 100k: \" + newcaserate + \"\\n\")\n",
    "prtsevenavg = (\"Seven-day average: \" + sevenavg + \"\\n\")\n",
    "prtsevenavgrate = (\"Seven-day average per 100k: \" + sevenavgrate + \"\\n\")\n",
    "prtcumecases = (\"Total cases in Butler county: \" + newcases + \"\\n\")\n",
    "prtcumecaserate = (\"Total cases in Butler County per 100k: \" + cumerate + \"\\n\")\n",
    "prtnewptlvax = (\"Newly partially vaccinated individuals: \" + newptlvax + \"\\n\")\n",
    "prttotptlvax = (\"Partially vaccinated individuals: \" + totptlvax + \"\\n\")\n",
    "prtptlvaxrate = (\"Partially vaccinated individuals per 100k: \" + ptlvaxrate + \"\\n\")\n",
    "prtnewfullvax = (\"Newly fully vaccinated individuals: \" + newfullvax + \"\\n\")\n",
    "prtfullvax = (\"Fully vaccinated individuals: \" + totfullvax + \"\\n\")\n",
    "prtfullvaxrate = (\"Fully vaccinated individuals per 100k: \" + fullvaxrate)\n",
    "prtcounty = (updated + prtnewcase + prtnewrate + prtsevenavg + prtsevenavgrate + prtcumecases + prtcumecaserate + prtnewptlvax + prttotptlvax + prtptlvaxrate +\n",
    "             prtnewfullvax + prtfullvax + prtfullvaxrate)\n",
    "#writing the new county data to a file\n",
    "ctyfile = open(\"new_county_data.txt\", \"w\")\n",
    "ctyfile.write(prtcounty)\n",
    "ctyfile.close()"
   ]
  }
 ],
 "metadata": {
  "kernelspec": {
   "display_name": "Python 3",
   "language": "python",
   "name": "python3"
  },
  "language_info": {
   "codemirror_mode": {
    "name": "ipython",
    "version": 3
   },
   "file_extension": ".py",
   "mimetype": "text/x-python",
   "name": "python",
   "nbconvert_exporter": "python",
   "pygments_lexer": "ipython3",
   "version": "3.8.8"
  }
 },
 "nbformat": 4,
 "nbformat_minor": 5
}
