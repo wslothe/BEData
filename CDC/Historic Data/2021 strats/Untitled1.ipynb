{
 "cells": [
  {
   "cell_type": "code",
   "execution_count": 2,
   "id": "f204e4b0-b755-4241-aa3a-f5d377d04276",
   "metadata": {},
   "outputs": [],
   "source": [
    "import pandas as pd\n",
    "import numpy as np"
   ]
  },
  {
   "cell_type": "code",
   "execution_count": 5,
   "id": "1c0fbeb8-3440-46a9-90ba-0d4a4b7168f1",
   "metadata": {},
   "outputs": [
    {
     "data": {
      "text/html": [
       "<div>\n",
       "<style scoped>\n",
       "    .dataframe tbody tr th:only-of-type {\n",
       "        vertical-align: middle;\n",
       "    }\n",
       "\n",
       "    .dataframe tbody tr th {\n",
       "        vertical-align: top;\n",
       "    }\n",
       "\n",
       "    .dataframe thead th {\n",
       "        text-align: right;\n",
       "    }\n",
       "</style>\n",
       "<table border=\"1\" class=\"dataframe\">\n",
       "  <thead>\n",
       "    <tr style=\"text-align: right;\">\n",
       "      <th></th>\n",
       "      <th>age_group</th>\n",
       "      <th>sex</th>\n",
       "      <th>symptom_status</th>\n",
       "      <th>hosp_yn</th>\n",
       "      <th>icu_yn</th>\n",
       "      <th>death_yn</th>\n",
       "    </tr>\n",
       "  </thead>\n",
       "  <tbody>\n",
       "    <tr>\n",
       "      <th>0</th>\n",
       "      <td>0 - 17 years</td>\n",
       "      <td>NaN</td>\n",
       "      <td>Unknown</td>\n",
       "      <td>Unknown</td>\n",
       "      <td>Unknown</td>\n",
       "      <td>NaN</td>\n",
       "    </tr>\n",
       "    <tr>\n",
       "      <th>1</th>\n",
       "      <td>18 to 49 years</td>\n",
       "      <td>Female</td>\n",
       "      <td>Symptomatic</td>\n",
       "      <td>No</td>\n",
       "      <td>No</td>\n",
       "      <td>NaN</td>\n",
       "    </tr>\n",
       "    <tr>\n",
       "      <th>2</th>\n",
       "      <td>50 to 64 years</td>\n",
       "      <td>Female</td>\n",
       "      <td>Unknown</td>\n",
       "      <td>Unknown</td>\n",
       "      <td>Unknown</td>\n",
       "      <td>NaN</td>\n",
       "    </tr>\n",
       "    <tr>\n",
       "      <th>3</th>\n",
       "      <td>50 to 64 years</td>\n",
       "      <td>Female</td>\n",
       "      <td>Symptomatic</td>\n",
       "      <td>No</td>\n",
       "      <td>No</td>\n",
       "      <td>NaN</td>\n",
       "    </tr>\n",
       "    <tr>\n",
       "      <th>4</th>\n",
       "      <td>50 to 64 years</td>\n",
       "      <td>Female</td>\n",
       "      <td>Symptomatic</td>\n",
       "      <td>No</td>\n",
       "      <td>No</td>\n",
       "      <td>NaN</td>\n",
       "    </tr>\n",
       "  </tbody>\n",
       "</table>\n",
       "</div>"
      ],
      "text/plain": [
       "        age_group     sex symptom_status  hosp_yn   icu_yn death_yn\n",
       "0    0 - 17 years     NaN        Unknown  Unknown  Unknown      NaN\n",
       "1  18 to 49 years  Female    Symptomatic       No       No      NaN\n",
       "2  50 to 64 years  Female        Unknown  Unknown  Unknown      NaN\n",
       "3  50 to 64 years  Female    Symptomatic       No       No      NaN\n",
       "4  50 to 64 years  Female    Symptomatic       No       No      NaN"
      ]
     },
     "execution_count": 5,
     "metadata": {},
     "output_type": "execute_result"
    }
   ],
   "source": [
    "data = pd.read_csv(\"cases_2021.csv\", usecols=['age_group', 'sex', 'symptom_status', 'hosp_yn', 'icu_yn', 'death_yn'])\n",
    "data.head()"
   ]
  },
  {
   "cell_type": "code",
   "execution_count": 6,
   "id": "8aecad8b-00a9-45ef-b45c-7332d7deedc7",
   "metadata": {},
   "outputs": [],
   "source": [
    "male = []\n",
    "for row in data['sex']:\n",
    "    if row == \"Male\":\n",
    "        male.append(1)\n",
    "    elif row == \"Female\":\n",
    "        male.append(0)\n",
    "    else:\n",
    "        male.append(None)\n",
    "symp = []\n",
    "for row in data['symptom_status']:\n",
    "    if row == \"Symptomatic\":\n",
    "        symp.append(1)\n",
    "    else:\n",
    "        symp.append(0)\n",
    "hosp = []\n",
    "for row in data['hosp_yn']:\n",
    "    if row == \"Yes\":\n",
    "        hosp.append(1)\n",
    "    elif row == \"No\":\n",
    "        hosp.append(0)\n",
    "    else:\n",
    "        hosp.append(None)\n",
    "icu = []\n",
    "for row in data['icu_yn']:\n",
    "    if row == \"Yes\":\n",
    "        icu.append(1)\n",
    "    elif row == \"No\":\n",
    "        icu.append(0)\n",
    "    else:\n",
    "        icu.append(None)\n",
    "death = []\n",
    "for row in data['death_yn']:\n",
    "    if row == \"Yes\":\n",
    "        death.append(1)\n",
    "    elif row == \"No\":\n",
    "        death.append(0)\n",
    "    else:\n",
    "        death.append(None)"
   ]
  },
  {
   "cell_type": "code",
   "execution_count": 7,
   "id": "71fd9b96-4730-4fc9-afde-d6e2311d3c30",
   "metadata": {},
   "outputs": [],
   "source": [
    "data['male'] = male\n",
    "data['symp'] = symp\n",
    "data['hosp'] = hosp\n",
    "data['icu'] = icu\n",
    "data['death'] = death"
   ]
  },
  {
   "cell_type": "code",
   "execution_count": 15,
   "id": "e16aa2a8-1c65-4da2-a58a-d556cb718fc2",
   "metadata": {},
   "outputs": [],
   "source": [
    "cols_to_keep = ['male', 'symp', 'hosp', 'icu', 'death']\n",
    "data.loc[:, cols_to_keep].to_csv('numeric_cases_21.csv')"
   ]
  },
  {
   "cell_type": "code",
   "execution_count": null,
   "id": "14814133-e013-4e4e-94b0-99bd4f4918b7",
   "metadata": {},
   "outputs": [],
   "source": []
  }
 ],
 "metadata": {
  "kernelspec": {
   "display_name": "Python 3",
   "language": "python",
   "name": "python3"
  },
  "language_info": {
   "codemirror_mode": {
    "name": "ipython",
    "version": 3
   },
   "file_extension": ".py",
   "mimetype": "text/x-python",
   "name": "python",
   "nbconvert_exporter": "python",
   "pygments_lexer": "ipython3",
   "version": "3.8.8"
  }
 },
 "nbformat": 4,
 "nbformat_minor": 5
}
