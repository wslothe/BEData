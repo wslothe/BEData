{
 "cells": [
  {
   "cell_type": "code",
   "execution_count": 1,
   "id": "dbce8a53-1a09-4643-a65a-3f4c7773cfd6",
   "metadata": {},
   "outputs": [],
   "source": [
    "import numpy as np\n",
    "import pandas as pd"
   ]
  },
  {
   "cell_type": "code",
   "execution_count": 2,
   "id": "f1e9505e-8b5e-48fc-84ac-f6af7ac01350",
   "metadata": {},
   "outputs": [],
   "source": [
    "#stratifying 2020 cases by month\n",
    "cases = pd.read_csv('cases_2021.csv')\n",
    "cases_df = pd.DataFrame.from_dict(cases)\n",
    "Jan21_cases = cases_df[(cases_df['case_month'] == '2021-01')]\n",
    "Jan21_cases.to_csv('202101_cases.csv', index=False)\n",
    "Feb21_cases = cases_df[(cases_df['case_month'] == '2021-02')]\n",
    "Feb21_cases.to_csv('202102_cases.csv', index=False)\n",
    "March21_cases = cases_df[(cases_df['case_month'] == '2021-03')]\n",
    "March21_cases.to_csv('202103_cases.csv', index=False)\n",
    "April21_cases = cases_df[(cases_df['case_month'] == '2021-04')]\n",
    "April21_cases.to_csv('202104_cases.csv', index=False)\n",
    "May21_cases = cases_df[(cases_df['case_month'] == '2021-05')]\n",
    "May21_cases.to_csv('202105_cases.csv', index=False)\n",
    "June21_cases = cases_df[(cases_df['case_month'] == '2021-06')]\n",
    "June21_cases.to_csv('202106_cases.csv', index=False)\n",
    "July21_cases = cases_df[(cases_df['case_month'] == '2021-07')]\n",
    "July21_cases.to_csv('202107_cases.csv', index=False)"
   ]
  },
  {
   "cell_type": "code",
   "execution_count": 3,
   "id": "7e875767-df78-45df-812d-c600c42af82e",
   "metadata": {},
   "outputs": [],
   "source": [
    "#counting the number of cases in each age range in each month\n",
    "Jan21_ages = Jan21_cases['age_group'].value_counts(dropna=False)\n",
    "Jan21_ages = Jan21_ages.reindex(index=['0 - 17 years', '18 to 49 years', '50 to 64 years', '65+ years', 'Missing'])\n",
    "Feb21_ages = Feb21_cases['age_group'].value_counts(dropna=False)\n",
    "Feb21_ages = Feb21_ages.reindex(index=['0 - 17 years', '18 to 49 years', '50 to 64 years', '65+ years', 'Missing'])\n",
    "March21_ages = March21_cases['age_group'].value_counts(dropna=False)\n",
    "March21_ages = March21_ages.reindex(index=['0 - 17 years', '18 to 49 years', '50 to 64 years', '65+ years', 'Missing'])\n",
    "April21_ages = April21_cases['age_group'].value_counts(dropna=False)\n",
    "April21_ages = April21_ages.reindex(index=['0 - 17 years', '18 to 49 years', '50 to 64 years', '65+ years', 'Missing'])\n",
    "May21_ages = May21_cases['age_group'].value_counts(dropna=False)\n",
    "May21_ages = May21_ages.reindex(index=['0 - 17 years', '18 to 49 years', '50 to 64 years', '65+ years', 'Missing'])\n",
    "June21_ages = June21_cases['age_group'].value_counts(dropna=False)\n",
    "June21_ages = June21_ages.reindex(index=['0 - 17 years', '18 to 49 years', '50 to 64 years', '65+ years', 'Missing'])\n",
    "July21_ages = July21_cases['age_group'].value_counts(dropna=False)\n",
    "July21_ages = July21_ages.reindex(index=['0 - 17 years', '18 to 49 years', '50 to 64 years', '65+ years', 'Missing'])"
   ]
  },
  {
   "cell_type": "code",
   "execution_count": 4,
   "id": "91a3c1e4-7bb0-46de-bf69-aa3ba2e6b6fe",
   "metadata": {},
   "outputs": [],
   "source": [
    "#putting monthly age-group case strats into one dataframe\n",
    "case_age_strats = pd.concat([Jan21_ages, Feb21_ages, March21_ages, April21_ages, May21_ages, June21_ages, July21_ages], axis=1, ignore_index=True)\n",
    "df_case_age_strats = pd.DataFrame.from_dict(case_age_strats)\n",
    "df_case_age_strats.columns = ['January', 'February', 'March', 'April', 'May', 'June', 'July'] #writing columns for that dataframe\n",
    "df_case_age_strats.to_csv('2021_monthly_cases_by_age.csv') #saving file"
   ]
  },
  {
   "cell_type": "code",
   "execution_count": 5,
   "id": "9618fd84-4ecc-4895-babb-b9465d87793f",
   "metadata": {},
   "outputs": [],
   "source": [
    "#counting the number of cases by sex in each month\n",
    "Jan21_sex = Jan21_cases['sex'].value_counts(dropna=False)\n",
    "Jan21_sex = Jan21_sex.reindex(index=['Male', 'Female', 'Unknown'])\n",
    "Feb21_sex = Feb21_cases['sex'].value_counts(dropna=False)\n",
    "Feb21_sex = Feb21_sex.reindex(index=['Male', 'Female', 'Unknown'])\n",
    "March21_sex = March21_cases['sex'].value_counts(dropna=False)\n",
    "March21_sex = March21_sex.reindex(index=['Male', 'Female', 'Unknown'])\n",
    "April21_sex = April21_cases['sex'].value_counts(dropna=False)\n",
    "April21_sex = April21_sex.reindex(index=['Male', 'Female', 'Unknown'])\n",
    "May21_sex = May21_cases['sex'].value_counts(dropna=False)\n",
    "May21_sex = May21_sex.reindex(index=['Male', 'Female', 'Unknown'])\n",
    "June21_sex = June21_cases['sex'].value_counts(dropna=False)\n",
    "June21_sex = June21_sex.reindex(index=['Male', 'Female', 'Unknown'])\n",
    "July21_sex = July21_cases['sex'].value_counts(dropna=False)\n",
    "July21_sex = July21_sex.reindex(index=['Male', 'Female', 'Unknown'])"
   ]
  },
  {
   "cell_type": "code",
   "execution_count": 6,
   "id": "a4059b8a-75c3-46c1-8393-874e434ea234",
   "metadata": {},
   "outputs": [],
   "source": [
    "#putting monthly sex case strats into one dataframe\n",
    "case_sex_strats = pd.concat([Jan21_sex, Feb21_sex, March21_sex, April21_sex, May21_sex, June21_sex, July21_sex], axis=1, ignore_index=True)\n",
    "df_case_sex_strats = pd.DataFrame.from_dict(case_sex_strats)\n",
    "df_case_sex_strats.columns = ['January', 'February', 'March', 'April', 'May', 'June', 'July'] #writing columns for that dataframe\n",
    "df_case_sex_strats.to_csv('2021_monthly_cases_by_sex.csv') #saving file"
   ]
  },
  {
   "cell_type": "code",
   "execution_count": 7,
   "id": "7085c3cc-e5a4-4fcb-b9c8-ca08b6523954",
   "metadata": {},
   "outputs": [],
   "source": [
    "#counting the number of cases in each age range in each month\n",
    "Jan21_sympta = Jan21_cases.groupby('age_group')['symptom_status'].value_counts(dropna=False).to_frame()\n",
    "Feb21_sympta = Feb21_cases.groupby('age_group')['symptom_status'].value_counts(dropna=False).to_frame()\n",
    "March21_sympta = March21_cases.groupby('age_group')['symptom_status'].value_counts(dropna=False).to_frame()\n",
    "April21_sympta = April21_cases.groupby('age_group')['symptom_status'].value_counts(dropna=False).to_frame()\n",
    "May21_sympta = May21_cases.groupby('age_group')['symptom_status'].value_counts(dropna=False).to_frame()\n",
    "June21_sympta = June21_cases.groupby('age_group')['symptom_status'].value_counts(dropna=False).to_frame()\n",
    "July21_sympta = July21_cases.groupby('age_group')['symptom_status'].value_counts(dropna=False).to_frame()"
   ]
  },
  {
   "cell_type": "code",
   "execution_count": 8,
   "id": "7f2414d4-c919-4b47-b953-66ba01c05fab",
   "metadata": {},
   "outputs": [],
   "source": [
    "#putting monthly age-group symptomatic cases into one dataframe\n",
    "symptoms_age_2021 = pd.concat([Jan21_sympta, Feb21_sympta, March21_sympta, April21_sympta, May21_sympta, June21_sympta, July21_sympta], axis=1, ignore_index=True)\n",
    "symptoms_age_2021.columns = ['January', 'February', 'March', 'April', 'May', 'June', 'July'] #making headers\n",
    "symptoms_age_2021.to_csv('2021_monthly_symptomatic_cases_by_age.csv')"
   ]
  },
  {
   "cell_type": "code",
   "execution_count": 9,
   "id": "d372c603-99bb-445d-ac1c-972a6b8b11e9",
   "metadata": {},
   "outputs": [],
   "source": [
    "#counting the number of cases in each age range in each month\n",
    "Jan21_sympts = Jan21_cases.groupby('sex')['symptom_status'].value_counts(dropna=False).to_frame()\n",
    "Feb21_sympts = Feb21_cases.groupby('sex')['symptom_status'].value_counts(dropna=False).to_frame()\n",
    "March21_sympts = March21_cases.groupby('sex')['symptom_status'].value_counts(dropna=False).to_frame()\n",
    "April21_sympts = April21_cases.groupby('sex')['symptom_status'].value_counts(dropna=False).to_frame()\n",
    "May21_sympts = May21_cases.groupby('sex')['symptom_status'].value_counts(dropna=False).to_frame()\n",
    "June21_sympts = June21_cases.groupby('sex')['symptom_status'].value_counts(dropna=False).to_frame()\n",
    "July21_sympts = July21_cases.groupby('sex')['symptom_status'].value_counts(dropna=False).to_frame()"
   ]
  },
  {
   "cell_type": "code",
   "execution_count": 10,
   "id": "b63f0722-8136-487b-ba85-6813158a5026",
   "metadata": {},
   "outputs": [],
   "source": [
    "#putting monthly sex symptomatic cases into one dataframe\n",
    "symptoms_sex_2021 = pd.concat([Jan21_sympts, Feb21_sympts, March21_sympts, April21_sympts, May21_sympts, June21_sympts, July21_sympts], axis=1, ignore_index=True)\n",
    "symptoms_sex_2021.columns = ['January', 'February', 'March', 'April', 'May', 'June', 'July'] #making headers\n",
    "symptoms_sex_2021.to_csv('2021_monthly_symptomatic_cases_by_sex.csv')"
   ]
  },
  {
   "cell_type": "code",
   "execution_count": 11,
   "id": "0bb6fecd-736b-473e-8da5-33bd87a4458a",
   "metadata": {},
   "outputs": [],
   "source": [
    "#counting the number of hospital admissions in each age range in each month\n",
    "Jan21_hospa = Jan21_cases.groupby('age_group')['hosp_yn'].value_counts(dropna=False).to_frame()\n",
    "Feb21_hospa = Feb21_cases.groupby('age_group')['hosp_yn'].value_counts(dropna=False).to_frame()\n",
    "March21_hospa = March21_cases.groupby('age_group')['hosp_yn'].value_counts(dropna=False).to_frame()\n",
    "April21_hospa = April21_cases.groupby('age_group')['hosp_yn'].value_counts(dropna=False).to_frame()\n",
    "May21_hospa = May21_cases.groupby('age_group')['hosp_yn'].value_counts(dropna=False).to_frame()\n",
    "June21_hospa = June21_cases.groupby('age_group')['hosp_yn'].value_counts(dropna=False).to_frame()\n",
    "July21_hospa = July21_cases.groupby('age_group')['hosp_yn'].value_counts(dropna=False).to_frame()"
   ]
  },
  {
   "cell_type": "code",
   "execution_count": 12,
   "id": "c8a7695d-e6a4-40a8-8e59-6c2d0cb29576",
   "metadata": {},
   "outputs": [],
   "source": [
    "#moving all monthly hospital admissions by age range into one dataframe\n",
    "hosp_age_2021 = pd.concat([Jan21_hospa, Feb21_hospa, March21_hospa, April21_hospa, May21_hospa, June21_hospa, July21_hospa], axis=1, ignore_index=True)\n",
    "hosp_age_2021.columns = ['January', 'February', 'March', 'April', 'May', 'June', 'July'] #making headers\n",
    "hosp_age_2021.to_csv('2021_monthly_hospitalizaitons_by_age.csv')"
   ]
  },
  {
   "cell_type": "code",
   "execution_count": 13,
   "id": "75200ee3-72c3-4401-91a2-28bcd92f206b",
   "metadata": {},
   "outputs": [],
   "source": [
    "#counting the number of hospital admissions by sex in each month\n",
    "Jan21_hosps = Jan21_cases.groupby('sex')['hosp_yn'].value_counts(dropna=False).to_frame()\n",
    "Feb21_hosps = Feb21_cases.groupby('sex')['hosp_yn'].value_counts(dropna=False).to_frame()\n",
    "March21_hosps = March21_cases.groupby('sex')['hosp_yn'].value_counts(dropna=False).to_frame()\n",
    "April21_hosps = April21_cases.groupby('sex')['hosp_yn'].value_counts(dropna=False).to_frame()\n",
    "May21_hosps = May21_cases.groupby('sex')['hosp_yn'].value_counts(dropna=False).to_frame()\n",
    "June21_hosps = June21_cases.groupby('sex')['hosp_yn'].value_counts(dropna=False).to_frame()\n",
    "July21_hosps = July21_cases.groupby('sex')['hosp_yn'].value_counts(dropna=False).to_frame()"
   ]
  },
  {
   "cell_type": "code",
   "execution_count": 14,
   "id": "02e7a4d1-de63-43b3-a5e2-67da7c7a6a10",
   "metadata": {},
   "outputs": [],
   "source": [
    "#moving all monthly hospital admissions by sex into one dataframe\n",
    "hosp_sex_2021 = pd.concat([Jan21_hosps, Feb21_hosps, March21_hosps, April21_hosps, May21_hosps, June21_hosps, July21_hosps], axis=1, ignore_index=True)\n",
    "hosp_sex_2021.columns = ['January', 'February', 'March', 'April', 'May', 'June', 'July'] #making headers\n",
    "hosp_sex_2021.to_csv('2021_monthly_hospitalizaitons_by_sex.csv')"
   ]
  },
  {
   "cell_type": "code",
   "execution_count": 15,
   "id": "0a56dab7-c142-46d3-ac45-d9ed019a519c",
   "metadata": {},
   "outputs": [],
   "source": [
    "#counting the number of icu admissions in each age range in each month\n",
    "Jan21_icua = Jan21_cases.groupby('age_group')['icu_yn'].value_counts(dropna=False).to_frame()\n",
    "Feb21_icua = Feb21_cases.groupby('age_group')['icu_yn'].value_counts(dropna=False).to_frame()\n",
    "March21_icua = March21_cases.groupby('age_group')['icu_yn'].value_counts(dropna=False).to_frame()\n",
    "April21_icua = April21_cases.groupby('age_group')['icu_yn'].value_counts(dropna=False).to_frame()\n",
    "May21_icua = May21_cases.groupby('age_group')['icu_yn'].value_counts(dropna=False).to_frame()\n",
    "June21_icua = June21_cases.groupby('age_group')['icu_yn'].value_counts(dropna=False).to_frame()\n",
    "July21_icua = July21_cases.groupby('age_group')['icu_yn'].value_counts(dropna=False).to_frame()"
   ]
  },
  {
   "cell_type": "code",
   "execution_count": 16,
   "id": "40731ced-9e47-4ff0-82e6-edef4c3ef3b1",
   "metadata": {},
   "outputs": [],
   "source": [
    "#moving all monthly icu admissions by age range into a single dataframe\n",
    "icu_age_2021 = pd.concat([Jan21_icua, Feb21_icua, March21_icua, April21_icua, May21_icua, June21_icua, July21_icua], axis=1, ignore_index=True)\n",
    "icu_age_2021.columns = ['January', 'February', 'March', 'April', 'May', 'June', 'July'] #making headers\n",
    "icu_age_2021.to_csv('2021_monthly_icu_admissions_by_age.csv')"
   ]
  },
  {
   "cell_type": "code",
   "execution_count": 17,
   "id": "02cdb654-7853-419e-90e9-423077c00b70",
   "metadata": {},
   "outputs": [],
   "source": [
    "#counting the number of icu admissions by sex in each month\n",
    "Jan21_icus = Jan21_cases.groupby('sex')['icu_yn'].value_counts(dropna=False).to_frame()\n",
    "Feb21_icus = Feb21_cases.groupby('sex')['icu_yn'].value_counts(dropna=False).to_frame()\n",
    "March21_icus = March21_cases.groupby('sex')['icu_yn'].value_counts(dropna=False).to_frame()\n",
    "April21_icus = April21_cases.groupby('sex')['icu_yn'].value_counts(dropna=False).to_frame()\n",
    "May21_icus = May21_cases.groupby('sex')['icu_yn'].value_counts(dropna=False).to_frame()\n",
    "June21_icus = June21_cases.groupby('sex')['icu_yn'].value_counts(dropna=False).to_frame()\n",
    "July21_icus = July21_cases.groupby('sex')['icu_yn'].value_counts(dropna=False).to_frame()"
   ]
  },
  {
   "cell_type": "code",
   "execution_count": 18,
   "id": "657683b8-aec7-49e7-8769-15b9f4de43b2",
   "metadata": {},
   "outputs": [],
   "source": [
    "#moving all monthly icu admissions by sex into a single dataframe\n",
    "icu_sex_2021 = pd.concat([Jan21_icus, Feb21_icus, March21_icus, April21_icus, May21_icus, June21_icus, July21_icus], axis=1, ignore_index=True)\n",
    "icu_sex_2021.columns = ['January', 'February', 'March', 'April', 'May', 'June', 'July'] #making headers\n",
    "icu_sex_2021.to_csv('2021_monthly_icu_admissions_by_sex.csv')"
   ]
  }
 ],
 "metadata": {
  "kernelspec": {
   "display_name": "Python 3",
   "language": "python",
   "name": "python3"
  },
  "language_info": {
   "codemirror_mode": {
    "name": "ipython",
    "version": 3
   },
   "file_extension": ".py",
   "mimetype": "text/x-python",
   "name": "python",
   "nbconvert_exporter": "python",
   "pygments_lexer": "ipython3",
   "version": "3.8.8"
  }
 },
 "nbformat": 4,
 "nbformat_minor": 5
}
