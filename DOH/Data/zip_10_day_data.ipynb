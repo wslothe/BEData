{
 "cells": [
  {
   "cell_type": "code",
   "execution_count": 1,
   "id": "d23b2513-8e92-404f-be15-0599b57352d0",
   "metadata": {},
   "outputs": [],
   "source": [
    "import pandas as pd\n",
    "import numpy as np\n",
    "import time\n",
    "from datetime import date, timedelta\n",
    "import os"
   ]
  },
  {
   "cell_type": "code",
   "execution_count": 2,
   "id": "1f341735-1eb3-49e7-9287-74541b58a919",
   "metadata": {},
   "outputs": [],
   "source": [
    "#identifying the day (in ISO 8601) so we can read the most recent file, as well as yesterday's date\n",
    "today = time.strftime(\"%Y%m%d\")\n",
    "yesterday = date.today() - timedelta(days=1)\n",
    "yesterday = yesterday.strftime(\"%Y%m%d\")\n",
    "lastweek = date.today() - timedelta(days=7)\n",
    "lastweek = lastweek.strftime(\"%Y%m%d\")\n",
    "lastten = date.today() - timedelta(days=10)\n",
    "lastten = lastten.strftime(\"%Y%m%d\")\n",
    "#input data as dataframes\n",
    "todayzipname = (today + \"_zip_code_data.csv\")\n",
    "todayzip = pd.read_csv(todayzipname)\n",
    "yesterdayzipname = (yesterday + \"_zip_code_data.csv\")\n",
    "yesterdayzip = pd.read_csv(yesterdayzipname)\n",
    "lastweekzipname = (lastweek + \"_zip_code_data.csv\")\n",
    "lastweekzip = pd.read_csv(lastweekzipname)\n",
    "#had to hash this out because of name changes\n",
    "#lasttenzipname = (lastten + \"_zip_code_data.csv\")\n",
    "#cancel this out after 8/20\n",
    "lasttenzipcase = pd.read_csv(lastten + \"_zip_cases.csv\")\n",
    "lasttenzipvax = pd.read_csv(lastten + \"_zip_cume_vax.csv\")\n",
    "lasttenzipcase = lasttenzipcase.dropna()\n",
    "lasttenzipcase = lasttenzipcase.reset_index(drop = True)\n",
    "lasttenzipcase.columns = ['Postcode', 'Positive', 'Negative']\n",
    "#lasttenzip = pd.read_csv(lasttenzipname)\n",
    "#defining our function\n",
    "def getnum(file, row, dataname):\n",
    "    dataname = file.iloc[:,[row]]\n",
    "    return dataname"
   ]
  },
  {
   "cell_type": "code",
   "execution_count": 3,
   "id": "2faaa33b-9049-465a-904a-0a4c9fbe1ad2",
   "metadata": {},
   "outputs": [],
   "source": [
    "dailypos = getnum(todayzip, 1, 'dailypos')\n",
    "dailyneg = getnum(todayzip, 2, 'dailyneg')\n",
    "yesterdaypos = getnum(yesterdayzip, 1, 'yesterdaypos')\n",
    "yesterdayneg = getnum(yesterdayzip, 2, 'yesterdayneg')\n",
    "lastweekpos = getnum(lastweekzip, 1, 'lastweekpos')\n",
    "lastweekneg = getnum(lastweekzip, 2, 'lastweekneg')\n",
    "lasttenpos = getnum(lasttenzipcase, 1, 'lasttenpos')\n",
    "lasttenneg = getnum(lasttenzipcase, 2, 'lasttenneg')\n",
    "cumetests = dailypos.values + dailyneg.values"
   ]
  },
  {
   "cell_type": "code",
   "execution_count": 5,
   "id": "e2f144e8-87b6-4d00-8ed0-9ff02d14cd8b",
   "metadata": {},
   "outputs": [
    {
     "name": "stderr",
     "output_type": "stream",
     "text": [
      "<ipython-input-5-3512d3826bac>:10: RuntimeWarning: invalid value encountered in true_divide\n",
      "  dailypostestrate = todaypos.values / todaytests\n",
      "<ipython-input-5-3512d3826bac>:22: RuntimeWarning: invalid value encountered in true_divide\n",
      "  weeklypostestrate = weeklynewpos.values / weeklynewtests * 100\n",
      "<ipython-input-5-3512d3826bac>:30: RuntimeWarning: invalid value encountered in true_divide\n",
      "  tendaypostestrate = tendaynewpos.values / tendaynewtests * 100\n"
     ]
    }
   ],
   "source": [
    "population = todayzip.iloc[:, [8]]\n",
    "population = population.values\n",
    "cumepos = dailypos / cumetests\n",
    "dailychange = dailypos - yesterdaypos\n",
    "dailychangerate = dailychange / population * 100000\n",
    "dailychangerate = dailychangerate.round(2)\n",
    "todaypos = dailypos - yesterdaypos\n",
    "todayneg = dailyneg - yesterdayneg\n",
    "todaytests = todaypos.values + todayneg.values\n",
    "dailypostestrate = todaypos.values / todaytests\n",
    "dailypostestrate = dailypostestrate * 100\n",
    "dailypostestrate = dailypostestrate.round(2)\n",
    "dailypostestrate = pd.DataFrame.from_dict(dailypostestrate)\n",
    "weeklypos = dailypos - lastweekpos\n",
    "weeklyposavg = weeklypos / 7\n",
    "weeklyposavgrate = weeklyposavg / population * 100000\n",
    "weeklyposavgrate = weeklyposavgrate.round(2)\n",
    "weeklyposavg = weeklyposavg.round(2)\n",
    "weeklynewpos = dailypos - lastweekpos\n",
    "weeklynewneg = dailyneg - lastweekneg\n",
    "weeklynewtests = weeklynewpos.values + weeklynewneg.values\n",
    "weeklypostestrate = weeklynewpos.values / weeklynewtests * 100\n",
    "weeklypostestrate = weeklypostestrate.round(2)\n",
    "weeklypostestrate = pd.DataFrame.from_dict(weeklypostestrate)\n",
    "tendaynewpos = dailypos - lasttenpos\n",
    "tendayposrate = tendaynewpos / population * 100000\n",
    "tendayposrate = tendayposrate.round(2)\n",
    "tendaynewneg = dailyneg - lasttenneg\n",
    "tendaynewtests = tendaynewpos.values + tendaynewneg.values\n",
    "tendaypostestrate = tendaynewpos.values / tendaynewtests * 100\n",
    "tendaypostestrate = tendaypostestrate.round(2)\n",
    "tendaypostestrate = pd.DataFrame.from_dict(tendaypostestrate)"
   ]
  },
  {
   "cell_type": "code",
   "execution_count": 6,
   "id": "27712221-1e0e-4f7d-8f18-1af0d167e3d7",
   "metadata": {},
   "outputs": [],
   "source": [
    "newstuff = pd.concat([cumepos, dailychange, dailychangerate, dailypostestrate, weeklypos, weeklyposavg, weeklyposavgrate, \n",
    "                      weeklypostestrate, tendaynewpos, tendayposrate, tendaypostestrate], axis = 1)"
   ]
  },
  {
   "cell_type": "code",
   "execution_count": 7,
   "id": "ecdc6e07-60f1-4e73-854a-2e91b1c1a9ac",
   "metadata": {},
   "outputs": [],
   "source": [
    "todayzip = pd.concat([todayzip, newstuff], axis = 1)"
   ]
  },
  {
   "cell_type": "code",
   "execution_count": 9,
   "id": "20df1fce-4b90-4c4b-bc79-14a46f538476",
   "metadata": {},
   "outputs": [],
   "source": [
    "todayzip.columns = ['Postcode', 'Positive', 'Negative', 'Cumulative Incidence', 'Partially Vaxxed', 'Partially Vaxxed Rate',\n",
    "                    'Fully Vaxxed', 'Fully Vaxxed Rate', 'Population', 'Positivity Percentage', 'New Positives Today', \n",
    "                    'New Positives per 100k', 'Positive Test Rate Today', 'Weekly Positives', 'Average Weekly Positives', \n",
    "                    'Weekly Positive Average per 100k', 'Weekly Positive Test Rate', 'Ten-Day Positives', \n",
    "                   'Ten-Day Positives per 100k', 'Ten-Day Poisitive Test Rate']\n",
    "todayzip.to_csv(todayzipname)"
   ]
  },
  {
   "cell_type": "code",
   "execution_count": null,
   "id": "e7404db5-21d1-4bb6-8105-74b965f9db00",
   "metadata": {},
   "outputs": [],
   "source": []
  }
 ],
 "metadata": {
  "kernelspec": {
   "display_name": "Python 3",
   "language": "python",
   "name": "python3"
  },
  "language_info": {
   "codemirror_mode": {
    "name": "ipython",
    "version": 3
   },
   "file_extension": ".py",
   "mimetype": "text/x-python",
   "name": "python",
   "nbconvert_exporter": "python",
   "pygments_lexer": "ipython3",
   "version": "3.8.8"
  }
 },
 "nbformat": 4,
 "nbformat_minor": 5
}
