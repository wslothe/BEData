{
 "cells": [
  {
   "cell_type": "code",
   "execution_count": 1,
   "id": "9fecc2a4-8aa0-4abc-9252-bd93be7159fb",
   "metadata": {},
   "outputs": [],
   "source": [
    "import numpy as np\n",
    "import pandas as pd"
   ]
  },
  {
   "cell_type": "code",
   "execution_count": 2,
   "id": "bf48d105-f888-45b8-bfe1-1d7fc75fe10b",
   "metadata": {},
   "outputs": [],
   "source": [
    "#stratifying 2021 cases\n",
    "cases_data = pd.read_csv('cases_2021.csv')\n",
    "cases_df = pd.DataFrame.from_dict(cases_data)\n",
    "cases_2021_df = cases_df[(cases_df['case_month'] >= '2021-01')]\n",
    "#cases_2021_df.to_csv('cases_2021.csv', index=False)\n",
    "#counting the number of 2021 cases by age group\n",
    "case_ages = cases_2021_df['age_group'].value_counts(dropna=False)\n",
    "case_ages = case_ages.reindex(index=['0 - 17 years', '18 to 49 years', '50 to 64 years', '65+ years', 'Missing'])\n",
    "#counting the number of 2021 cases by sex\n",
    "case_sex = cases_2021_df['sex'].value_counts(dropna=False)\n",
    "case_sex = case_sex.reindex(index=['Male', 'Female', 'Unknown'])"
   ]
  },
  {
   "cell_type": "code",
   "execution_count": 3,
   "id": "f1277835-1595-4fa6-ad96-21af2e66239a",
   "metadata": {},
   "outputs": [],
   "source": [
    "#stratifying 2021 symptomatic cases\n",
    "symptom_data = pd.read_csv('symptomatic_cases_2021.csv')\n",
    "#symptom_df = pd.DataFrame.from_dict(symptom_data)\n",
    "#symptom_2021_df = symptom_df[(symptom_df['case_month'] >= '2021-01')]\n",
    "#symptom_2021_df.to_csv('symptomatic_cases_2021.csv', index=False)\n",
    "#counting the number of 2021 symptomatic cases by age group\n",
    "symptom_ages = symptom_data['age_group'].value_counts(dropna=False)\n",
    "symptom_ages = symptom_ages.reindex(index=['0 - 17 years', '18 to 49 years', '50 to 64 years', '65+ years', 'Missing'])\n",
    "#counting the number of 2021 symptomatic cases by sex\n",
    "symptom_sex = symptom_data['sex'].value_counts(dropna=False)\n",
    "symptom_sex = symptom_sex.reindex(index=['Male', 'Female', 'Unknown'])"
   ]
  },
  {
   "cell_type": "code",
   "execution_count": 4,
   "id": "252df66c-750f-41b7-bd7d-1218c78ef5ff",
   "metadata": {},
   "outputs": [],
   "source": [
    "#stratifying 2020 hospitalizations\n",
    "hospital_data = pd.read_csv('hospitalizations_2021.csv')\n",
    "#hospital_df = pd.DataFrame.from_dict(hospital_data)\n",
    "#hospital_2021_df = hospital_df[(hospital_df['case_month'] >= '2021-01')]\n",
    "#hospital_2021_df.to_csv('hospitalizations_2021.csv', index=False)\n",
    "#counting the number of 2021 hospitalizations by age group\n",
    "hospital_ages = hospital_data['age_group'].value_counts(dropna=False)\n",
    "hospital_ages = hospital_ages.reindex(index=['0 - 17 years', '18 to 49 years', '50 to 64 years', '65+ years', 'Missing'])\n",
    "#counting the number of 2021 hospitalizations by sex\n",
    "hospital_sex = hospital_data['sex'].value_counts(dropna=False)\n",
    "hospital_sex = hospital_sex.reindex(index=['Male', 'Female', 'Unknown'])"
   ]
  },
  {
   "cell_type": "code",
   "execution_count": 6,
   "id": "a749876f-38e4-4b93-8226-dfbb0dd4496d",
   "metadata": {},
   "outputs": [],
   "source": [
    "#stratifying 2021 icu admits\n",
    "icu_data = pd.read_csv('icu_admits_2021.csv')\n",
    "#icu_df = pd.DataFrame.from_dict(icu_data)\n",
    "#icu_2021_df = icu_df[(icu_df['case_month'] >= '2021-01')]\n",
    "#icu_2021_df.to_csv('icu_admits_2021.csv', index=False)\n",
    "#counting the number of 2021 icu admits by age group\n",
    "icu_ages = icu_data['age_group'].value_counts(dropna=False)\n",
    "icu_ages = icu_ages.reindex(index=['0 - 17 years', '18 to 49 years', '50 to 64 years', '65+ years', 'Missing'])\n",
    "#counting the number of 2021 icu admits by sex\n",
    "icu_sex = icu_data['sex'].value_counts(dropna=False)\n",
    "icu_sex = icu_sex.reindex(index=['Male', 'Female', 'Unknown'])"
   ]
  },
  {
   "cell_type": "code",
   "execution_count": 7,
   "id": "03da9c81-8302-4be1-9fe0-97671fe48ade",
   "metadata": {},
   "outputs": [],
   "source": [
    "#stratifying 2021 deaths\n",
    "death_data = pd.read_csv('deaths_2021.csv')\n",
    "#death_df = pd.DataFrame.from_dict(death_data)\n",
    "#death_2021_df = death_df[(death_df['case_month'] >= '2021-01')]\n",
    "#death_2021_df.to_csv('deaths_2021.csv', index=False)\n",
    "#counting the number of 2021 deaths by age group\n",
    "death_ages = hospital_data['age_group'].value_counts(dropna=False)\n",
    "death_ages = hospital_ages.reindex(index=['0 - 17 years', '18 to 49 years', '50 to 64 years', '65+ years', 'Missing'])\n",
    "#counting the number of 2021 deaths by sex\n",
    "death_sex = death_data['sex'].value_counts(dropna=False)\n",
    "death_sex = death_sex.reindex(index=['Male', 'Female', 'Unknown'])"
   ]
  },
  {
   "cell_type": "code",
   "execution_count": 8,
   "id": "61660f83-cd73-4948-b1a9-9a2de2c35ad5",
   "metadata": {},
   "outputs": [],
   "source": [
    "#putting age-group strats into one dataqframe\n",
    "age_strats = pd.concat([case_ages, symptom_ages, hospital_ages, icu_ages, death_ages], axis=1, ignore_index=True)\n",
    "age_strats.columns = ['Cases', 'Symptomatic cases', 'Hospitalizations', 'ICU admissions', 'Deaths'] #writing columns for that dataframe\n",
    "age_strats.to_csv('2021_age_stratifications.csv') #saving file"
   ]
  },
  {
   "cell_type": "code",
   "execution_count": 9,
   "id": "ed516571-7179-417e-8413-3ac458323d88",
   "metadata": {},
   "outputs": [],
   "source": [
    "#putting sex strats into one dataqframe\n",
    "sex_strats = pd.concat([case_sex, symptom_sex, hospital_sex, icu_sex, death_sex], axis=1, ignore_index=True)\n",
    "sex_strats.columns = ['Cases', 'Symptomatic cases', 'Hospitalizations', 'ICU admissions', 'Deaths'] #writing columns for that dataframe\n",
    "sex_strats.to_csv('2021_sex_stratifications.csv') #saving file"
   ]
  }
 ],
 "metadata": {
  "kernelspec": {
   "display_name": "Python 3",
   "language": "python",
   "name": "python3"
  },
  "language_info": {
   "codemirror_mode": {
    "name": "ipython",
    "version": 3
   },
   "file_extension": ".py",
   "mimetype": "text/x-python",
   "name": "python",
   "nbconvert_exporter": "python",
   "pygments_lexer": "ipython3",
   "version": "3.8.8"
  }
 },
 "nbformat": 4,
 "nbformat_minor": 5
}
