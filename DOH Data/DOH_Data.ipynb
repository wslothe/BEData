{
 "cells": [
  {
   "cell_type": "code",
   "execution_count": 1,
   "id": "3dd7b2d4-512a-4424-a14a-ec624ed917e0",
   "metadata": {},
   "outputs": [],
   "source": [
    "import os\n",
    "import pandas as pd\n",
    "import numpy as np\n",
    "\n",
    "from sodapy import Socrata\n",
    "from urllib.request import Request, urlopen"
   ]
  },
  {
   "cell_type": "code",
   "execution_count": 2,
   "id": "19cfdadc-1037-4c65-8bc1-744d5cc26b72",
   "metadata": {},
   "outputs": [],
   "source": [
    "#identifying the sources of our data\n",
    "doh_domain = 'data.pa.gov'\n",
    "zip_cases_ident = 'tsf6-pnaf'\n",
    "county_cases_ident = 'j72v-r42c'\n",
    "county_vax_ident = 'bicw-3gwi'\n",
    "county_cume_vax_ident = 'gcnb-epac'\n",
    "zip_cume_vax_ident = 'd63n-ygar'\n",
    "socrata_token = os.environ.get(\"socrata_token\")"
   ]
  },
  {
   "cell_type": "code",
   "execution_count": 3,
   "id": "d0c25b6e-afaa-42e4-9442-f17c43edc708",
   "metadata": {},
   "outputs": [
    {
     "name": "stderr",
     "output_type": "stream",
     "text": [
      "WARNING:root:Requests made without an app_token will be subject to strict throttling limits.\n"
     ]
    }
   ],
   "source": [
    "client = Socrata (doh_domain, socrata_token)"
   ]
  },
  {
   "cell_type": "code",
   "execution_count": 4,
   "id": "1856d4ac-037e-45b0-9991-8af8b89a4f5d",
   "metadata": {},
   "outputs": [],
   "source": [
    "#retrieving ZIP Code cases and writing it to zip_cases.csv\n",
    "zip_cases_results = client.get(zip_cases_ident, where=\"postcode between '16001' and '16066'\", limit=42, select=\"postcode, positive, negative\")\n",
    "zip_cases_df = pd.DataFrame.from_dict(zip_cases_results)\n",
    "zip_cases_df.to_csv('zip_cases.csv', index=False)"
   ]
  },
  {
   "cell_type": "code",
   "execution_count": 5,
   "id": "f79cecf6-4ef6-44d1-970e-58f3353904c3",
   "metadata": {},
   "outputs": [],
   "source": [
    "#retrieving cumulative county cases and writing it to county_cases.csv\n",
    "county_cases_results = client.get(county_cases_ident, \n",
    "                                  where=\"county = 'Butler'\",\n",
    "                                  select=\"date, county, cases, cases_rate, cases_avg_new, cases_avg_new_rate, cases_cume, cases_cume_rate\",\n",
    "                                  order=\"date DESC\")\n",
    "county_cases_df = pd.DataFrame.from_dict(county_cases_results)\n",
    "county_cases_df.to_csv('county_cases.csv', index=False)"
   ]
  },
  {
   "cell_type": "code",
   "execution_count": 6,
   "id": "e491b43c-a95e-48cf-9cc7-a8b899d2ffda",
   "metadata": {},
   "outputs": [],
   "source": [
    "#retrieving daily vaccination data and writing it to county_daily_vaccines.csv\n",
    "county_daily_vax = client.get(county_vax_ident,\n",
    "                              where=\"county = 'Butler'\",\n",
    "                              order=\"date DESC\")\n",
    "county_vax_df = pd.DataFrame.from_dict(county_daily_vax)\n",
    "county_vax_df.to_csv('county_daily_vaccines.csv', index=False)"
   ]
  },
  {
   "cell_type": "code",
   "execution_count": 7,
   "id": "74d750af-6116-46ee-b46c-79e08fd7cbc1",
   "metadata": {},
   "outputs": [],
   "source": [
    "#retrieving cumulative county vaccination data and writing it to county_cumulative_vaccines.csv\n",
    "county_cume_vax = client.get(county_cume_vax_ident,\n",
    "                             where=\"county = 'Butler'\")\n",
    "county_cume_vax_df = pd.DataFrame.from_dict(county_cume_vax)\n",
    "county_cume_vax_df.to_csv('county_cumulative_vaccines.csv', index=False)"
   ]
  },
  {
   "cell_type": "code",
   "execution_count": 8,
   "id": "b9d5c19e-2651-4234-83ae-5013e86f575a",
   "metadata": {},
   "outputs": [],
   "source": [
    "#retrieving cumulative ZIP Code vaccination data and writing it to zip_cume_vax.csv\n",
    "zip_cume_vax = client.get(zip_cume_vax_ident,\n",
    "                          where=\"patient_zip_code between '16001' and '16066'\",\n",
    "                          order=\"patient_zip_code ASC\")\n",
    "zip_cume_vax_df = pd.DataFrame.from_dict(zip_cume_vax)\n",
    "zip_cume_vax_df.to_csv('zip_cume_vax.csv', index=False)"
   ]
  }
 ],
 "metadata": {
  "kernelspec": {
   "display_name": "Python 3",
   "language": "python",
   "name": "python3"
  },
  "language_info": {
   "codemirror_mode": {
    "name": "ipython",
    "version": 3
   },
   "file_extension": ".py",
   "mimetype": "text/x-python",
   "name": "python",
   "nbconvert_exporter": "python",
   "pygments_lexer": "ipython3",
   "version": "3.8.8"
  }
 },
 "nbformat": 4,
 "nbformat_minor": 5
}
