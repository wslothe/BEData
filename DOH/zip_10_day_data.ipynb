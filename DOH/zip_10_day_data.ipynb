{
 "cells": [
  {
   "cell_type": "code",
   "execution_count": null,
   "id": "d23b2513-8e92-404f-be15-0599b57352d0",
   "metadata": {},
   "outputs": [],
   "source": [
    "import pandas as pd\n",
    "import numpy as np\n",
    "import time\n",
    "from datetime import date, timedelta\n",
    "import os"
   ]
  },
  {
   "cell_type": "code",
   "execution_count": null,
   "id": "1f341735-1eb3-49e7-9287-74541b58a919",
   "metadata": {},
   "outputs": [],
   "source": [
    "#identifying the day (in ISO 8601) so we can read the most recent file, as well as yesterday's date\n",
    "today = time.strftime(\"%Y%m%d\")\n",
    "yesterday = date.today() - timedelta(days=1)\n",
    "yesterday = yesterday.strftime(\"%Y%m%d\")\n",
    "lastweek = date.today() - timedelta(days=7)\n",
    "lastweek = lastweek.strftime(\"%Y%m%d\")\n",
    "lastten = date.today() - timedelta(days=10)\n",
    "lastten = lastten.strftime(\"%Y%m%d\")\n",
    "#input data as dataframes\n",
    "todayzipname = (\"C:\\\\Users\\\\aweidenhof\\\\Documents\\\\GitHub\\\\BEData\\\\DOH\\\\Data\\\\\" + today + \"_zip_code_data.csv\")\n",
    "todayzip = pd.read_csv(todayzipname)\n",
    "yesterdayzipname = (\"C:\\\\Users\\\\aweidenhof\\\\Documents\\\\GitHub\\\\BEData\\\\DOH\\\\Data\\\\\" + yesterday + \"_zip_code_data.csv\")\n",
    "yesterdayzip = pd.read_csv(yesterdayzipname)\n",
    "lastweekzipname = \"C:\\\\Users\\\\aweidenhof\\\\Documents\\\\GitHub\\\\BEData\\\\DOH\\\\Data\\\\\" + (lastweek + \"_zip_code_data.csv\")\n",
    "lastweekzip = pd.read_csv(lastweekzipname)\n",
    "lasttenzipname = (\"C:\\\\Users\\\\aweidenhof\\\\Documents\\\\GitHub\\\\BEData\\\\DOH\\\\Data\\\\\" + lastten + \"_zip_code_data.csv\")\n",
    "lasttenzip = pd.read_csv(lasttenzipname)\n",
    "#defining our function\n",
    "def getnum(file, row, dataname):\n",
    "    dataname = file.iloc[:,[row]]\n",
    "    return dataname"
   ]
  },
  {
   "cell_type": "code",
   "execution_count": null,
   "id": "2faaa33b-9049-465a-904a-0a4c9fbe1ad2",
   "metadata": {},
   "outputs": [],
   "source": [
    "dailypos = getnum(todayzip, 1, 'dailypos')\n",
    "dailyneg = getnum(todayzip, 2, 'dailyneg')\n",
    "yesterdaypos = getnum(yesterdayzip, 1, 'yesterdaypos')\n",
    "yesterdayneg = getnum(yesterdayzip, 2, 'yesterdayneg')\n",
    "lastweekpos = getnum(lastweekzip, 1, 'lastweekpos')\n",
    "lastweekneg = getnum(lastweekzip, 2, 'lastweekneg')\n",
    "lasttenpos = getnum(lasttenzip, 1, 'lasttenpos')\n",
    "lasttenneg = getnum(lasttenzip, 2, 'lasttenneg')\n",
    "cumetests = dailypos.values + dailyneg.values"
   ]
  },
  {
   "cell_type": "code",
   "execution_count": null,
   "id": "e2f144e8-87b6-4d00-8ed0-9ff02d14cd8b",
   "metadata": {},
   "outputs": [],
   "source": [
    "population = todayzip.iloc[:, [8]]\n",
    "population = population.values\n",
    "cumepos = dailypos / cumetests * 100\n",
    "cumepos = cumepos.round(2)\n",
    "dailychange = dailypos - yesterdaypos\n",
    "dailychangerate = dailychange / population * 100000\n",
    "dailychangerate = dailychangerate.round(2)\n",
    "todaypos = dailypos - yesterdaypos\n",
    "todayneg = dailyneg - yesterdayneg\n",
    "todaytests = todaypos.values + todayneg.values\n",
    "dailypostestrate = todaypos.values / todaytests\n",
    "dailypostestrate = dailypostestrate * 100\n",
    "dailypostestrate = dailypostestrate.round(2)\n",
    "dailypostestrate = pd.DataFrame.from_dict(dailypostestrate)\n",
    "weeklypos = dailypos - lastweekpos\n",
    "weeklyposavg = weeklypos / 7\n",
    "weeklyposavgrate = weeklyposavg / population * 100000\n",
    "weeklyposavgrate = weeklyposavgrate.round(2)\n",
    "weeklyposavg = weeklyposavg.round(2)\n",
    "weeklynewpos = dailypos - lastweekpos\n",
    "weeklynewneg = dailyneg - lastweekneg\n",
    "weeklynewtests = weeklynewpos.values + weeklynewneg.values\n",
    "weeklypostestrate = weeklynewpos.values / weeklynewtests * 100\n",
    "weeklypostestrate = weeklypostestrate.round(2)\n",
    "weeklypostestrate = pd.DataFrame.from_dict(weeklypostestrate)\n",
    "tendaynewpos = dailypos - lasttenpos\n",
    "tendayposrate = tendaynewpos / population * 100000\n",
    "tendayposrate = tendayposrate.round(2)\n",
    "tendaynewneg = dailyneg - lasttenneg\n",
    "tendaynewtests = tendaynewpos.values + tendaynewneg.values\n",
    "tendaypostestrate = tendaynewpos.values / tendaynewtests * 100\n",
    "tendaypostestrate = tendaypostestrate.round(2)\n",
    "tendaypostestrate = pd.DataFrame.from_dict(tendaypostestrate)\n",
    "cumetests = pd.DataFrame.from_dict(cumetests)\n",
    "todaytests = pd.DataFrame.from_dict(todaytests)\n",
    "weeklynewtests = pd.DataFrame.from_dict(weeklynewtests)\n",
    "tendaynewtests = pd.DataFrame.from_dict(tendaynewtests)"
   ]
  },
  {
   "cell_type": "code",
   "execution_count": null,
   "id": "27712221-1e0e-4f7d-8f18-1af0d167e3d7",
   "metadata": {},
   "outputs": [],
   "source": [
    "newstuff = pd.concat([cumetests, cumepos, dailychange, dailychangerate, todayneg, todaytests, dailypostestrate, weeklypos, weeklyposavg, weeklyposavgrate, \n",
    "                      weeklynewneg, weeklynewtests, weeklypostestrate, tendaynewpos, tendayposrate, tendaynewneg, tendaynewtests,  tendaypostestrate], \n",
    "                    axis = 1)"
   ]
  },
  {
   "cell_type": "code",
   "execution_count": null,
   "id": "ecdc6e07-60f1-4e73-854a-2e91b1c1a9ac",
   "metadata": {},
   "outputs": [],
   "source": [
    "todayzip = pd.concat([todayzip, newstuff], axis = 1)"
   ]
  },
  {
   "cell_type": "code",
   "execution_count": null,
   "id": "20df1fce-4b90-4c4b-bc79-14a46f538476",
   "metadata": {},
   "outputs": [],
   "source": [
    "todayzip.columns = ['Postcode', 'Positive', 'Negative', 'Cumulative Incidence', 'Partially Vaxxed', 'Partially Vaxxed Rate',\n",
    "                    'Fully Vaxxed', 'Fully Vaxxed Rate', 'Population', 'Total Tests', 'Positivity Percentage', 'New Positives Today', \n",
    "                    'New Positives per 100k', 'New Negatives', 'New Tests', 'Positive Test Rate Today', 'Weekly Positives', 'Average Weekly Positives', \n",
    "                    'Weekly Positive Average per 100k', 'Weekly Negatives', 'Weekly Tests', 'Weekly Positive Test Rate', 'Ten-Day Positives', \n",
    "                   'Ten-Day Positives per 100k', 'Ten-day Negatives', 'Ten-day Tests', 'Ten-Day Poisitive Test Rate']\n",
    "todayzip.to_csv(todayzipname)"
   ]
  },
  {
   "cell_type": "code",
   "execution_count": null,
   "id": "276f4c75-86c2-4705-b648-9b8002197f07",
   "metadata": {},
   "outputs": [],
   "source": []
  }
 ],
 "metadata": {
  "kernelspec": {
   "display_name": "Python 3",
   "language": "python",
   "name": "python3"
  },
  "language_info": {
   "codemirror_mode": {
    "name": "ipython",
    "version": 3
   },
   "file_extension": ".py",
   "mimetype": "text/x-python",
   "name": "python",
   "nbconvert_exporter": "python",
   "pygments_lexer": "ipython3",
   "version": "3.8.8"
  }
 },
 "nbformat": 4,
 "nbformat_minor": 5
}
