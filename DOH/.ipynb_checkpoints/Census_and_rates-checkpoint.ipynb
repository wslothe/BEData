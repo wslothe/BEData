{
 "cells": [
  {
   "cell_type": "code",
   "execution_count": 27,
   "id": "ca88a2b8-b3b6-440d-a153-0f499b6c1437",
   "metadata": {},
   "outputs": [],
   "source": [
    "from censusretrieve import Getcensus\n",
    "import pandas as pd\n",
    "import time"
   ]
  },
  {
   "cell_type": "code",
   "execution_count": 2,
   "id": "fd1aadfe-8e55-4667-aa98-5547bf00cf8e",
   "metadata": {},
   "outputs": [],
   "source": [
    "#getting population by zip code\n",
    "#self, name year, state, geo2, geo2select, tables\n",
    "r1 = 16001\n",
    "r2 = 16066\n",
    "ziplist = list(range(r1, r2+1))\n",
    "zips = ','.join(str(e) for e in ziplist)\n",
    "zip5 = Getcensus('zipcodes', 2019, '42', 'zip code tabulation area', zips, 'B01001_001E')\n",
    "Getcensus.get_census(zip5)"
   ]
  },
  {
   "cell_type": "code",
   "execution_count": 15,
   "id": "9c413e9b-b0ef-4fe5-94d0-b2b814783233",
   "metadata": {},
   "outputs": [],
   "source": [
    "zipcodes = zip5.name\n",
    "zipcodes.index = zipcodes.index.astype('str')\n",
    "zipcodes.index = zipcodes.index.str[:11]\n",
    "zipcodes.index = zipcodes.index.str[-5:]\n",
    "zipcodes = zipcodes.reset_index()\n",
    "blankZips = [pd.Series([16003, None], index=zipcodes.columns),\n",
    "             pd.Series([16018, None], index=zipcodes.columns),\n",
    "             pd.Series([16039, None], index=zipcodes.columns),\n",
    "             pd.Series([16058, None], index=zipcodes.columns)]\n",
    "zipcodes = zipcodes.append(blankZips, ignore_index = True)\n",
    "zipcodes = zipcodes.set_index('index')\n",
    "zipcodes.index = zipcodes.index.astype('int')"
   ]
  },
  {
   "cell_type": "code",
   "execution_count": 24,
   "id": "1be8f1d3-7c8b-4ed0-bc78-fb72d2f174a5",
   "metadata": {},
   "outputs": [],
   "source": [
    "zipcodes = zipcodes.sort_index()\n",
    "zipcodes = zipcodes.reset_index(drop = True)"
   ]
  },
  {
   "cell_type": "code",
   "execution_count": 32,
   "id": "fb2a3bd1-6301-4550-81a9-8424e9fde467",
   "metadata": {},
   "outputs": [],
   "source": [
    "datestr = time.strftime(\"%Y%m%d\")\n",
    "zip_cases_name = (datestr + \"_zip_code_cases.csv\")\n",
    "zip_cases = pd.read_csv(zip_cases_name)\n",
    "zip_cases['Population'] = zipcodes['B01001_001E']\n",
    "zip_cases['Cumulative Incidence'] = zip_cases['positive']/zip_cases['Population']*100000\n",
    "zip_cases['Cumulative Incidence'] = zip_cases['Cumulative Incidence'].round(2)\n",
    "zip_cases.to_csv(zip_cases_name, index=False)"
   ]
  },
  {
   "cell_type": "code",
   "execution_count": 36,
   "id": "a4230774-6fe2-43ba-ab58-b45d28592586",
   "metadata": {},
   "outputs": [],
   "source": [
    "zip_vax_name = (datestr + \"_zip_cumulative_vax.csv\")\n",
    "zip_vax = pd.read_csv(zip_vax_name)\n",
    "population = zipcodes['B01001_001E']\n",
    "zip_vax['Partially Covered Rate'] = zip_vax['partiallycovered']/population*100000\n",
    "zip_vax['Partially Covered Rate'] = zip_vax['Partially Covered Rate'].round(2)\n",
    "zip_vax['Fully Covered Rate'] = zip_vax['fullycovered']/population*100000\n",
    "zip_vax['Fully Covered Rate'] = zip_vax['Fully Covered Rate'].round(2)\n",
    "zip_vax.to_csv(zip_vax_name, index=False)"
   ]
  },
  {
   "cell_type": "code",
   "execution_count": null,
   "id": "62f2e571-245f-4121-a5cb-b5ddaa9c1eb1",
   "metadata": {},
   "outputs": [],
   "source": []
  }
 ],
 "metadata": {
  "kernelspec": {
   "display_name": "Python 3",
   "language": "python",
   "name": "python3"
  },
  "language_info": {
   "codemirror_mode": {
    "name": "ipython",
    "version": 3
   },
   "file_extension": ".py",
   "mimetype": "text/x-python",
   "name": "python",
   "nbconvert_exporter": "python",
   "pygments_lexer": "ipython3",
   "version": "3.8.8"
  }
 },
 "nbformat": 4,
 "nbformat_minor": 5
}
