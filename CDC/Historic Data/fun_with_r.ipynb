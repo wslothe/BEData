{
 "cells": [
  {
   "cell_type": "code",
   "execution_count": 85,
   "id": "5db3fa14-0cc8-488b-a56d-f13cda92b331",
   "metadata": {},
   "outputs": [
    {
     "data": {
      "text/plain": [
       "                \n",
       "                    0    1\n",
       "  18 to 49 years 6363 1899\n",
       "  50 to 64 years 3288  897\n",
       "  65+ years      2277  905"
      ]
     },
     "metadata": {},
     "output_type": "display_data"
    }
   ],
   "source": [
    "library(dplyr)\n",
    "library(epitools)\n",
    "file_path <- \"numeric_cases.csv\"\n",
    "cases <- read.csv(file_path)\n",
    "adults <- cases[!cases$age_group == \"0 - 17 years\", ]\n",
    "df <- adults[!adults$age_group == \"\", ]\n",
    "df_complete <- df[!df$symp == \"\", ]\n",
    "dataframe = table(df_complete$age_group, df_complete$symp)[-1:-2,]\n",
    "data = dataframe[-4,]\n",
    "data"
   ]
  },
  {
   "cell_type": "code",
   "execution_count": 87,
   "id": "9d13a925-6007-4cae-927c-6bfce852cb2f",
   "metadata": {},
   "outputs": [
    {
     "data": {
      "text/html": [
       "<dl>\n",
       "\t<dt>$data</dt>\n",
       "\t\t<dd><table>\n",
       "<thead><tr><th></th><th scope=col>0</th><th scope=col>1</th><th scope=col>Total</th></tr></thead>\n",
       "<tbody>\n",
       "\t<tr><th scope=row>18 to 49 years</th><td> 6363</td><td>1899 </td><td> 8262</td></tr>\n",
       "\t<tr><th scope=row>50 to 64 years</th><td> 3288</td><td> 897 </td><td> 4185</td></tr>\n",
       "\t<tr><th scope=row>65+ years</th><td> 2277</td><td> 905 </td><td> 3182</td></tr>\n",
       "\t<tr><th scope=row>Total</th><td>11928</td><td>3701 </td><td>15629</td></tr>\n",
       "</tbody>\n",
       "</table>\n",
       "</dd>\n",
       "\t<dt>$measure</dt>\n",
       "\t\t<dd><table>\n",
       "<thead><tr><th></th><th scope=col>estimate</th><th scope=col>lower</th><th scope=col>upper</th></tr></thead>\n",
       "<tbody>\n",
       "\t<tr><th scope=row>18 to 49 years</th><td>1.0000000</td><td>       NA</td><td>       NA</td></tr>\n",
       "\t<tr><th scope=row>50 to 64 years</th><td>0.9141825</td><td>0.8353427</td><td>0.9998851</td></tr>\n",
       "\t<tr><th scope=row>65+ years</th><td>1.3317630</td><td>1.2138292</td><td>1.4605609</td></tr>\n",
       "</tbody>\n",
       "</table>\n",
       "</dd>\n",
       "\t<dt>$p.value</dt>\n",
       "\t\t<dd><table>\n",
       "<thead><tr><th></th><th scope=col>midp.exact</th><th scope=col>fisher.exact</th><th scope=col>chi.square</th></tr></thead>\n",
       "<tbody>\n",
       "\t<tr><th scope=row>18 to 49 years</th><td>          NA</td><td>          NA</td><td>          NA</td></tr>\n",
       "\t<tr><th scope=row>50 to 64 years</th><td>4.972216e-02</td><td>5.061691e-02</td><td>5.013316e-02</td></tr>\n",
       "\t<tr><th scope=row>65+ years</th><td>1.745998e-09</td><td>1.747571e-09</td><td>1.197121e-09</td></tr>\n",
       "</tbody>\n",
       "</table>\n",
       "</dd>\n",
       "\t<dt>$correction</dt>\n",
       "\t\t<dd>FALSE</dd>\n",
       "</dl>\n"
      ],
      "text/latex": [
       "\\begin{description}\n",
       "\\item[\\$data] \\begin{tabular}{r|lll}\n",
       "  & 0 & 1 & Total\\\\\n",
       "\\hline\n",
       "\t18 to 49 years &  6363 & 1899  &  8262\\\\\n",
       "\t50 to 64 years &  3288 &  897  &  4185\\\\\n",
       "\t65+ years &  2277 &  905  &  3182\\\\\n",
       "\tTotal & 11928 & 3701  & 15629\\\\\n",
       "\\end{tabular}\n",
       "\n",
       "\\item[\\$measure] \\begin{tabular}{r|lll}\n",
       "  & estimate & lower & upper\\\\\n",
       "\\hline\n",
       "\t18 to 49 years & 1.0000000 &        NA &        NA\\\\\n",
       "\t50 to 64 years & 0.9141825 & 0.8353427 & 0.9998851\\\\\n",
       "\t65+ years & 1.3317630 & 1.2138292 & 1.4605609\\\\\n",
       "\\end{tabular}\n",
       "\n",
       "\\item[\\$p.value] \\begin{tabular}{r|lll}\n",
       "  & midp.exact & fisher.exact & chi.square\\\\\n",
       "\\hline\n",
       "\t18 to 49 years &           NA &           NA &           NA\\\\\n",
       "\t50 to 64 years & 4.972216e-02 & 5.061691e-02 & 5.013316e-02\\\\\n",
       "\t65+ years & 1.745998e-09 & 1.747571e-09 & 1.197121e-09\\\\\n",
       "\\end{tabular}\n",
       "\n",
       "\\item[\\$correction] FALSE\n",
       "\\end{description}\n"
      ],
      "text/markdown": [
       "$data\n",
       ":   \n",
       "| <!--/--> | 0 | 1 | Total |\n",
       "|---|---|---|---|\n",
       "| 18 to 49 years |  6363 | 1899  |  8262 |\n",
       "| 50 to 64 years |  3288 |  897  |  4185 |\n",
       "| 65+ years |  2277 |  905  |  3182 |\n",
       "| Total | 11928 | 3701  | 15629 |\n",
       "\n",
       "\n",
       "$measure\n",
       ":   \n",
       "| <!--/--> | estimate | lower | upper |\n",
       "|---|---|---|---|\n",
       "| 18 to 49 years | 1.0000000 |        NA |        NA |\n",
       "| 50 to 64 years | 0.9141825 | 0.8353427 | 0.9998851 |\n",
       "| 65+ years | 1.3317630 | 1.2138292 | 1.4605609 |\n",
       "\n",
       "\n",
       "$p.value\n",
       ":   \n",
       "| <!--/--> | midp.exact | fisher.exact | chi.square |\n",
       "|---|---|---|---|\n",
       "| 18 to 49 years |           NA |           NA |           NA |\n",
       "| 50 to 64 years | 4.972216e-02 | 5.061691e-02 | 5.013316e-02 |\n",
       "| 65+ years | 1.745998e-09 | 1.747571e-09 | 1.197121e-09 |\n",
       "\n",
       "\n",
       "$correction\n",
       ":   FALSE\n",
       "\n",
       "\n"
      ],
      "text/plain": [
       "$data\n",
       "                \n",
       "                     0    1 Total\n",
       "  18 to 49 years  6363 1899  8262\n",
       "  50 to 64 years  3288  897  4185\n",
       "  65+ years       2277  905  3182\n",
       "  Total          11928 3701 15629\n",
       "\n",
       "$measure\n",
       "                odds ratio with 95% C.I.\n",
       "                  estimate     lower     upper\n",
       "  18 to 49 years 1.0000000        NA        NA\n",
       "  50 to 64 years 0.9141825 0.8353427 0.9998851\n",
       "  65+ years      1.3317630 1.2138292 1.4605609\n",
       "\n",
       "$p.value\n",
       "                two-sided\n",
       "                   midp.exact fisher.exact   chi.square\n",
       "  18 to 49 years           NA           NA           NA\n",
       "  50 to 64 years 4.972216e-02 5.061691e-02 5.013316e-02\n",
       "  65+ years      1.745998e-09 1.747571e-09 1.197121e-09\n",
       "\n",
       "$correction\n",
       "[1] FALSE\n",
       "\n",
       "attr(,\"method\")\n",
       "[1] \"median-unbiased estimate & mid-p exact CI\""
      ]
     },
     "metadata": {},
     "output_type": "display_data"
    }
   ],
   "source": [
    "orage = oddsratio(data)\n",
    "orage"
   ]
  },
  {
   "cell_type": "code",
   "execution_count": 88,
   "id": "5c9c9bfd-6d8f-4d0f-9f9b-c0ad3f928083",
   "metadata": {},
   "outputs": [
    {
     "data": {
      "image/png": "[encoded data removed]",
      "text/plain": [
       "Plot with title \"Odds Ratios (95%CI) of symptomatic COVID-19 infection by age\""
      ]
     },
     "metadata": {},
     "output_type": "display_data"
    }
   ],
   "source": [
    "ORage = t(orage$measure)[,-1]\n",
    "boxplot(ORage, \n",
    "        horizontal = TRUE, \n",
    "        main = \"Odds Ratios (95%CI) of symptomatic COVID-19 infection by age\",\n",
    "        xlab = \"Odds Ratio\",\n",
    "        ylab = \"Age Range\")"
   ]
  },
  {
   "cell_type": "code",
   "execution_count": 89,
   "id": "c60b5ef1-6413-4ec0-a300-09d3350d27eb",
   "metadata": {},
   "outputs": [
    {
     "data": {
      "text/html": [
       "<dl>\n",
       "\t<dt>$data</dt>\n",
       "\t\t<dd><table>\n",
       "<thead><tr><th></th><th scope=col>0</th><th scope=col>1</th><th scope=col>Total</th></tr></thead>\n",
       "<tbody>\n",
       "\t<tr><th scope=row>18 to 49 years</th><td> 6363</td><td>1899 </td><td> 8262</td></tr>\n",
       "\t<tr><th scope=row>50 to 64 years</th><td> 3288</td><td> 897 </td><td> 4185</td></tr>\n",
       "\t<tr><th scope=row>65+ years</th><td> 2277</td><td> 905 </td><td> 3182</td></tr>\n",
       "\t<tr><th scope=row>Total</th><td>11928</td><td>3701 </td><td>15629</td></tr>\n",
       "</tbody>\n",
       "</table>\n",
       "</dd>\n",
       "\t<dt>$measure</dt>\n",
       "\t\t<dd><table>\n",
       "<thead><tr><th></th><th scope=col>estimate</th><th scope=col>lower</th><th scope=col>upper</th></tr></thead>\n",
       "<tbody>\n",
       "\t<tr><th scope=row>18 to 49 years</th><td>1.000000 </td><td>       NA</td><td>      NA </td></tr>\n",
       "\t<tr><th scope=row>50 to 64 years</th><td>0.932518 </td><td>0.8693339</td><td>1.000294 </td></tr>\n",
       "\t<tr><th scope=row>65+ years</th><td>1.237396 </td><td>1.1562936</td><td>1.324186 </td></tr>\n",
       "</tbody>\n",
       "</table>\n",
       "</dd>\n",
       "\t<dt>$p.value</dt>\n",
       "\t\t<dd><table>\n",
       "<thead><tr><th></th><th scope=col>midp.exact</th><th scope=col>fisher.exact</th><th scope=col>chi.square</th></tr></thead>\n",
       "<tbody>\n",
       "\t<tr><th scope=row>18 to 49 years</th><td>          NA</td><td>          NA</td><td>          NA</td></tr>\n",
       "\t<tr><th scope=row>50 to 64 years</th><td>4.972216e-02</td><td>5.061691e-02</td><td>5.013316e-02</td></tr>\n",
       "\t<tr><th scope=row>65+ years</th><td>1.745998e-09</td><td>1.747571e-09</td><td>1.197121e-09</td></tr>\n",
       "</tbody>\n",
       "</table>\n",
       "</dd>\n",
       "\t<dt>$correction</dt>\n",
       "\t\t<dd>FALSE</dd>\n",
       "</dl>\n"
      ],
      "text/latex": [
       "\\begin{description}\n",
       "\\item[\\$data] \\begin{tabular}{r|lll}\n",
       "  & 0 & 1 & Total\\\\\n",
       "\\hline\n",
       "\t18 to 49 years &  6363 & 1899  &  8262\\\\\n",
       "\t50 to 64 years &  3288 &  897  &  4185\\\\\n",
       "\t65+ years &  2277 &  905  &  3182\\\\\n",
       "\tTotal & 11928 & 3701  & 15629\\\\\n",
       "\\end{tabular}\n",
       "\n",
       "\\item[\\$measure] \\begin{tabular}{r|lll}\n",
       "  & estimate & lower & upper\\\\\n",
       "\\hline\n",
       "\t18 to 49 years & 1.000000  &        NA &       NA \\\\\n",
       "\t50 to 64 years & 0.932518  & 0.8693339 & 1.000294 \\\\\n",
       "\t65+ years & 1.237396  & 1.1562936 & 1.324186 \\\\\n",
       "\\end{tabular}\n",
       "\n",
       "\\item[\\$p.value] \\begin{tabular}{r|lll}\n",
       "  & midp.exact & fisher.exact & chi.square\\\\\n",
       "\\hline\n",
       "\t18 to 49 years &           NA &           NA &           NA\\\\\n",
       "\t50 to 64 years & 4.972216e-02 & 5.061691e-02 & 5.013316e-02\\\\\n",
       "\t65+ years & 1.745998e-09 & 1.747571e-09 & 1.197121e-09\\\\\n",
       "\\end{tabular}\n",
       "\n",
       "\\item[\\$correction] FALSE\n",
       "\\end{description}\n"
      ],
      "text/markdown": [
       "$data\n",
       ":   \n",
       "| <!--/--> | 0 | 1 | Total |\n",
       "|---|---|---|---|\n",
       "| 18 to 49 years |  6363 | 1899  |  8262 |\n",
       "| 50 to 64 years |  3288 |  897  |  4185 |\n",
       "| 65+ years |  2277 |  905  |  3182 |\n",
       "| Total | 11928 | 3701  | 15629 |\n",
       "\n",
       "\n",
       "$measure\n",
       ":   \n",
       "| <!--/--> | estimate | lower | upper |\n",
       "|---|---|---|---|\n",
       "| 18 to 49 years | 1.000000  |        NA |       NA  |\n",
       "| 50 to 64 years | 0.932518  | 0.8693339 | 1.000294  |\n",
       "| 65+ years | 1.237396  | 1.1562936 | 1.324186  |\n",
       "\n",
       "\n",
       "$p.value\n",
       ":   \n",
       "| <!--/--> | midp.exact | fisher.exact | chi.square |\n",
       "|---|---|---|---|\n",
       "| 18 to 49 years |           NA |           NA |           NA |\n",
       "| 50 to 64 years | 4.972216e-02 | 5.061691e-02 | 5.013316e-02 |\n",
       "| 65+ years | 1.745998e-09 | 1.747571e-09 | 1.197121e-09 |\n",
       "\n",
       "\n",
       "$correction\n",
       ":   FALSE\n",
       "\n",
       "\n"
      ],
      "text/plain": [
       "$data\n",
       "                \n",
       "                     0    1 Total\n",
       "  18 to 49 years  6363 1899  8262\n",
       "  50 to 64 years  3288  897  4185\n",
       "  65+ years       2277  905  3182\n",
       "  Total          11928 3701 15629\n",
       "\n",
       "$measure\n",
       "                risk ratio with 95% C.I.\n",
       "                 estimate     lower    upper\n",
       "  18 to 49 years 1.000000        NA       NA\n",
       "  50 to 64 years 0.932518 0.8693339 1.000294\n",
       "  65+ years      1.237396 1.1562936 1.324186\n",
       "\n",
       "$p.value\n",
       "                two-sided\n",
       "                   midp.exact fisher.exact   chi.square\n",
       "  18 to 49 years           NA           NA           NA\n",
       "  50 to 64 years 4.972216e-02 5.061691e-02 5.013316e-02\n",
       "  65+ years      1.745998e-09 1.747571e-09 1.197121e-09\n",
       "\n",
       "$correction\n",
       "[1] FALSE\n",
       "\n",
       "attr(,\"method\")\n",
       "[1] \"Unconditional MLE & normal approximation (Wald) CI\""
      ]
     },
     "metadata": {},
     "output_type": "display_data"
    }
   ],
   "source": [
    "rrage = riskratio(data)\n",
    "rrage"
   ]
  },
  {
   "cell_type": "code",
   "execution_count": 90,
   "id": "fa816773-b815-45a4-b122-0ded15420c80",
   "metadata": {},
   "outputs": [
    {
     "data": {
      "image/png": "[encoded data removed]",
      "text/plain": [
       "Plot with title \"Risk Ratios (95%CI) of symptomatic COVID-19 infection by age\""
      ]
     },
     "metadata": {},
     "output_type": "display_data"
    }
   ],
   "source": [
    "RRage = t(rrage$measure)[,-1]\n",
    "boxplot(RRage, \n",
    "       horizontal = TRUE, \n",
    "        main = \"Risk Ratios (95%CI) of symptomatic COVID-19 infection by age\",\n",
    "        xlab = \"Risk Ratio\",\n",
    "        ylab = \"Age Range\")"
   ]
  },
  {
   "cell_type": "code",
   "execution_count": 94,
   "id": "7d0230b2-78e5-400f-bd86-3c5b014b5c33",
   "metadata": {},
   "outputs": [
    {
     "data": {
      "text/plain": [
       "                \n",
       "                    0    1\n",
       "  18 to 49 years 1697   34\n",
       "  50 to 64 years  752   94\n",
       "  65+ years       624  316"
      ]
     },
     "metadata": {},
     "output_type": "display_data"
    }
   ],
   "source": [
    "df <- adults[!adults$hosp == \"\", ]\n",
    "hosp = table(df$age_group, df$hosp)[-1:-2,]\n",
    "agehosp = hosp[-4,]\n",
    "agehosp"
   ]
  },
  {
   "cell_type": "code",
   "execution_count": 96,
   "id": "c61e6ba3-dc0d-4925-8e9d-2a3d2218d89f",
   "metadata": {},
   "outputs": [
    {
     "data": {
      "text/html": [
       "<dl>\n",
       "\t<dt>$data</dt>\n",
       "\t\t<dd><table>\n",
       "<thead><tr><th></th><th scope=col>0</th><th scope=col>1</th><th scope=col>Total</th></tr></thead>\n",
       "<tbody>\n",
       "\t<tr><th scope=row>18 to 49 years</th><td>1697</td><td> 34 </td><td>1731</td></tr>\n",
       "\t<tr><th scope=row>50 to 64 years</th><td> 752</td><td> 94 </td><td> 846</td></tr>\n",
       "\t<tr><th scope=row>65+ years</th><td> 624</td><td>316 </td><td> 940</td></tr>\n",
       "\t<tr><th scope=row>Total</th><td>3073</td><td>444 </td><td>3517</td></tr>\n",
       "</tbody>\n",
       "</table>\n",
       "</dd>\n",
       "\t<dt>$measure</dt>\n",
       "\t\t<dd><table>\n",
       "<thead><tr><th></th><th scope=col>estimate</th><th scope=col>lower</th><th scope=col>upper</th></tr></thead>\n",
       "<tbody>\n",
       "\t<tr><th scope=row>18 to 49 years</th><td> 1.000000</td><td>       NA</td><td>       NA</td></tr>\n",
       "\t<tr><th scope=row>50 to 64 years</th><td> 6.215631</td><td> 4.199778</td><td> 9.415591</td></tr>\n",
       "\t<tr><th scope=row>65+ years</th><td>25.140182</td><td>17.697166</td><td>36.870706</td></tr>\n",
       "</tbody>\n",
       "</table>\n",
       "</dd>\n",
       "\t<dt>$p.value</dt>\n",
       "\t\t<dd><table>\n",
       "<thead><tr><th></th><th scope=col>midp.exact</th><th scope=col>fisher.exact</th><th scope=col>chi.square</th></tr></thead>\n",
       "<tbody>\n",
       "\t<tr><th scope=row>18 to 49 years</th><td>NA           </td><td>           NA</td><td>           NA</td></tr>\n",
       "\t<tr><th scope=row>50 to 64 years</th><td> 0           </td><td> 5.473884e-22</td><td> 1.057279e-23</td></tr>\n",
       "\t<tr><th scope=row>65+ years</th><td> 0           </td><td>5.521837e-119</td><td>1.384490e-118</td></tr>\n",
       "</tbody>\n",
       "</table>\n",
       "</dd>\n",
       "\t<dt>$correction</dt>\n",
       "\t\t<dd>FALSE</dd>\n",
       "</dl>\n"
      ],
      "text/latex": [
       "\\begin{description}\n",
       "\\item[\\$data] \\begin{tabular}{r|lll}\n",
       "  & 0 & 1 & Total\\\\\n",
       "\\hline\n",
       "\t18 to 49 years & 1697 &  34  & 1731\\\\\n",
       "\t50 to 64 years &  752 &  94  &  846\\\\\n",
       "\t65+ years &  624 & 316  &  940\\\\\n",
       "\tTotal & 3073 & 444  & 3517\\\\\n",
       "\\end{tabular}\n",
       "\n",
       "\\item[\\$measure] \\begin{tabular}{r|lll}\n",
       "  & estimate & lower & upper\\\\\n",
       "\\hline\n",
       "\t18 to 49 years &  1.000000 &        NA &        NA\\\\\n",
       "\t50 to 64 years &  6.215631 &  4.199778 &  9.415591\\\\\n",
       "\t65+ years & 25.140182 & 17.697166 & 36.870706\\\\\n",
       "\\end{tabular}\n",
       "\n",
       "\\item[\\$p.value] \\begin{tabular}{r|lll}\n",
       "  & midp.exact & fisher.exact & chi.square\\\\\n",
       "\\hline\n",
       "\t18 to 49 years & NA            &            NA &            NA\\\\\n",
       "\t50 to 64 years &  0            &  5.473884e-22 &  1.057279e-23\\\\\n",
       "\t65+ years &  0            & 5.521837e-119 & 1.384490e-118\\\\\n",
       "\\end{tabular}\n",
       "\n",
       "\\item[\\$correction] FALSE\n",
       "\\end{description}\n"
      ],
      "text/markdown": [
       "$data\n",
       ":   \n",
       "| <!--/--> | 0 | 1 | Total |\n",
       "|---|---|---|---|\n",
       "| 18 to 49 years | 1697 |  34  | 1731 |\n",
       "| 50 to 64 years |  752 |  94  |  846 |\n",
       "| 65+ years |  624 | 316  |  940 |\n",
       "| Total | 3073 | 444  | 3517 |\n",
       "\n",
       "\n",
       "$measure\n",
       ":   \n",
       "| <!--/--> | estimate | lower | upper |\n",
       "|---|---|---|---|\n",
       "| 18 to 49 years |  1.000000 |        NA |        NA |\n",
       "| 50 to 64 years |  6.215631 |  4.199778 |  9.415591 |\n",
       "| 65+ years | 25.140182 | 17.697166 | 36.870706 |\n",
       "\n",
       "\n",
       "$p.value\n",
       ":   \n",
       "| <!--/--> | midp.exact | fisher.exact | chi.square |\n",
       "|---|---|---|---|\n",
       "| 18 to 49 years | NA            |            NA |            NA |\n",
       "| 50 to 64 years |  0            |  5.473884e-22 |  1.057279e-23 |\n",
       "| 65+ years |  0            | 5.521837e-119 | 1.384490e-118 |\n",
       "\n",
       "\n",
       "$correction\n",
       ":   FALSE\n",
       "\n",
       "\n"
      ],
      "text/plain": [
       "$data\n",
       "                \n",
       "                    0   1 Total\n",
       "  18 to 49 years 1697  34  1731\n",
       "  50 to 64 years  752  94   846\n",
       "  65+ years       624 316   940\n",
       "  Total          3073 444  3517\n",
       "\n",
       "$measure\n",
       "                odds ratio with 95% C.I.\n",
       "                  estimate     lower     upper\n",
       "  18 to 49 years  1.000000        NA        NA\n",
       "  50 to 64 years  6.215631  4.199778  9.415591\n",
       "  65+ years      25.140182 17.697166 36.870706\n",
       "\n",
       "$p.value\n",
       "                two-sided\n",
       "                 midp.exact  fisher.exact    chi.square\n",
       "  18 to 49 years         NA            NA            NA\n",
       "  50 to 64 years          0  5.473884e-22  1.057279e-23\n",
       "  65+ years               0 5.521837e-119 1.384490e-118\n",
       "\n",
       "$correction\n",
       "[1] FALSE\n",
       "\n",
       "attr(,\"method\")\n",
       "[1] \"median-unbiased estimate & mid-p exact CI\""
      ]
     },
     "metadata": {},
     "output_type": "display_data"
    }
   ],
   "source": [
    "orhosp = oddsratio(agehosp)\n",
    "ORhosp = t(orhosp$measure)[,-1]\n",
    "orhosp"
   ]
  },
  {
   "cell_type": "code",
   "execution_count": 97,
   "id": "cccc552c-6839-4426-a5a0-cff1b29b4480",
   "metadata": {},
   "outputs": [
    {
     "data": {
      "image/png": "[encoded data removed]",
      "text/plain": [
       "Plot with title \"Risk Ratios (95%CI) of symptomatic COVID-19 infection by age\""
      ]
     },
     "metadata": {},
     "output_type": "display_data"
    }
   ],
   "source": [
    "boxplot(ORhosp, \n",
    "       horizontal = TRUE, \n",
    "        main = \"Risk Ratios (95%CI) of symptomatic COVID-19 infection by age\",\n",
    "        xlab = \"Risk Ratio\",\n",
    "        ylab = \"Age Range\")"
   ]
  },
  {
   "cell_type": "code",
   "execution_count": 100,
   "id": "257f8a0c-b6a3-4338-bded-d5575f5e2386",
   "metadata": {},
   "outputs": [],
   "source": [
    "rrhosp = riskratio(agehosp)\n",
    "RRhosp = t(rrhosp$measure)[,-1]"
   ]
  },
  {
   "cell_type": "code",
   "execution_count": 101,
   "id": "526e96e1-d3d7-46d5-8a15-7d4c7220e873",
   "metadata": {},
   "outputs": [
    {
     "data": {
      "image/png": "[encoded data removed]",
      "text/plain": [
       "Plot with title \"Risk Ratios (95%CI) of symptomatic COVID-19 infection by age\""
      ]
     },
     "metadata": {},
     "output_type": "display_data"
    }
   ],
   "source": [
    "boxplot(RRhosp, \n",
    "       horizontal = TRUE, \n",
    "        main = \"Risk Ratios (95%CI) of symptomatic COVID-19 infection by age\",\n",
    "        xlab = \"Risk Ratio\",\n",
    "        ylab = \"Age Range\")"
   ]
  },
  {
   "cell_type": "code",
   "execution_count": 102,
   "id": "841947d7-b802-45d1-973c-1b0cb6598dde",
   "metadata": {},
   "outputs": [
    {
     "data": {
      "text/plain": [
       "                \n",
       "                   0   1\n",
       "  18 to 49 years 749   7\n",
       "  50 to 64 years 362  24\n",
       "  65+ years      558  60"
      ]
     },
     "metadata": {},
     "output_type": "display_data"
    }
   ],
   "source": [
    "icu <- cases[!cases$icu == \"\", ]\n",
    "icu = table(icu$age_group, icu$icu)[-1:-2,]\n",
    "ageicu = icu[-4,]\n",
    "ageicu"
   ]
  },
  {
   "cell_type": "code",
   "execution_count": 120,
   "id": "5642e32c-4a92-4c43-a3b1-b575b3350f93",
   "metadata": {},
   "outputs": [
    {
     "data": {
      "text/html": [
       "<dl>\n",
       "\t<dt>$data</dt>\n",
       "\t\t<dd><table>\n",
       "<thead><tr><th></th><th scope=col>0</th><th scope=col>1</th><th scope=col>Total</th></tr></thead>\n",
       "<tbody>\n",
       "\t<tr><th scope=row>18 to 49 years</th><td> 749</td><td> 7  </td><td> 756</td></tr>\n",
       "\t<tr><th scope=row>50 to 64 years</th><td> 362</td><td>24  </td><td> 386</td></tr>\n",
       "\t<tr><th scope=row>65+ years</th><td> 558</td><td>60  </td><td> 618</td></tr>\n",
       "\t<tr><th scope=row>Total</th><td>1669</td><td>91  </td><td>1760</td></tr>\n",
       "</tbody>\n",
       "</table>\n",
       "</dd>\n",
       "\t<dt>$measure</dt>\n",
       "\t\t<dd><table>\n",
       "<thead><tr><th></th><th scope=col>estimate</th><th scope=col>lower</th><th scope=col>upper</th></tr></thead>\n",
       "<tbody>\n",
       "\t<tr><th scope=row>18 to 49 years</th><td> 1.000000</td><td>      NA </td><td>      NA </td></tr>\n",
       "\t<tr><th scope=row>50 to 64 years</th><td> 6.969668</td><td>3.113403 </td><td>17.84583 </td></tr>\n",
       "\t<tr><th scope=row>65+ years</th><td>11.262018</td><td>5.457881 </td><td>27.44930 </td></tr>\n",
       "</tbody>\n",
       "</table>\n",
       "</dd>\n",
       "\t<dt>$p.value</dt>\n",
       "\t\t<dd><table>\n",
       "<thead><tr><th></th><th scope=col>midp.exact</th><th scope=col>fisher.exact</th><th scope=col>chi.square</th></tr></thead>\n",
       "<tbody>\n",
       "\t<tr><th scope=row>18 to 49 years</th><td>          NA</td><td>          NA</td><td>          NA</td></tr>\n",
       "\t<tr><th scope=row>50 to 64 years</th><td>6.672230e-07</td><td>5.896204e-07</td><td>1.937033e-07</td></tr>\n",
       "\t<tr><th scope=row>65+ years</th><td>6.217249e-15</td><td>7.576619e-15</td><td>5.485574e-14</td></tr>\n",
       "</tbody>\n",
       "</table>\n",
       "</dd>\n",
       "\t<dt>$correction</dt>\n",
       "\t\t<dd>FALSE</dd>\n",
       "</dl>\n"
      ],
      "text/latex": [
       "\\begin{description}\n",
       "\\item[\\$data] \\begin{tabular}{r|lll}\n",
       "  & 0 & 1 & Total\\\\\n",
       "\\hline\n",
       "\t18 to 49 years &  749 &  7   &  756\\\\\n",
       "\t50 to 64 years &  362 & 24   &  386\\\\\n",
       "\t65+ years &  558 & 60   &  618\\\\\n",
       "\tTotal & 1669 & 91   & 1760\\\\\n",
       "\\end{tabular}\n",
       "\n",
       "\\item[\\$measure] \\begin{tabular}{r|lll}\n",
       "  & estimate & lower & upper\\\\\n",
       "\\hline\n",
       "\t18 to 49 years &  1.000000 &       NA  &       NA \\\\\n",
       "\t50 to 64 years &  6.969668 & 3.113403  & 17.84583 \\\\\n",
       "\t65+ years & 11.262018 & 5.457881  & 27.44930 \\\\\n",
       "\\end{tabular}\n",
       "\n",
       "\\item[\\$p.value] \\begin{tabular}{r|lll}\n",
       "  & midp.exact & fisher.exact & chi.square\\\\\n",
       "\\hline\n",
       "\t18 to 49 years &           NA &           NA &           NA\\\\\n",
       "\t50 to 64 years & 6.672230e-07 & 5.896204e-07 & 1.937033e-07\\\\\n",
       "\t65+ years & 6.217249e-15 & 7.576619e-15 & 5.485574e-14\\\\\n",
       "\\end{tabular}\n",
       "\n",
       "\\item[\\$correction] FALSE\n",
       "\\end{description}\n"
      ],
      "text/markdown": [
       "$data\n",
       ":   \n",
       "| <!--/--> | 0 | 1 | Total |\n",
       "|---|---|---|---|\n",
       "| 18 to 49 years |  749 |  7   |  756 |\n",
       "| 50 to 64 years |  362 | 24   |  386 |\n",
       "| 65+ years |  558 | 60   |  618 |\n",
       "| Total | 1669 | 91   | 1760 |\n",
       "\n",
       "\n",
       "$measure\n",
       ":   \n",
       "| <!--/--> | estimate | lower | upper |\n",
       "|---|---|---|---|\n",
       "| 18 to 49 years |  1.000000 |       NA  |       NA  |\n",
       "| 50 to 64 years |  6.969668 | 3.113403  | 17.84583  |\n",
       "| 65+ years | 11.262018 | 5.457881  | 27.44930  |\n",
       "\n",
       "\n",
       "$p.value\n",
       ":   \n",
       "| <!--/--> | midp.exact | fisher.exact | chi.square |\n",
       "|---|---|---|---|\n",
       "| 18 to 49 years |           NA |           NA |           NA |\n",
       "| 50 to 64 years | 6.672230e-07 | 5.896204e-07 | 1.937033e-07 |\n",
       "| 65+ years | 6.217249e-15 | 7.576619e-15 | 5.485574e-14 |\n",
       "\n",
       "\n",
       "$correction\n",
       ":   FALSE\n",
       "\n",
       "\n"
      ],
      "text/plain": [
       "$data\n",
       "                \n",
       "                    0  1 Total\n",
       "  18 to 49 years  749  7   756\n",
       "  50 to 64 years  362 24   386\n",
       "  65+ years       558 60   618\n",
       "  Total          1669 91  1760\n",
       "\n",
       "$measure\n",
       "                odds ratio with 95% C.I.\n",
       "                  estimate    lower    upper\n",
       "  18 to 49 years  1.000000       NA       NA\n",
       "  50 to 64 years  6.969668 3.113403 17.84583\n",
       "  65+ years      11.262018 5.457881 27.44930\n",
       "\n",
       "$p.value\n",
       "                two-sided\n",
       "                   midp.exact fisher.exact   chi.square\n",
       "  18 to 49 years           NA           NA           NA\n",
       "  50 to 64 years 6.672230e-07 5.896204e-07 1.937033e-07\n",
       "  65+ years      6.217249e-15 7.576619e-15 5.485574e-14\n",
       "\n",
       "$correction\n",
       "[1] FALSE\n",
       "\n",
       "attr(,\"method\")\n",
       "[1] \"median-unbiased estimate & mid-p exact CI\""
      ]
     },
     "metadata": {},
     "output_type": "display_data"
    }
   ],
   "source": [
    "oricu = oddsratio(ageicu)\n",
    "ORicu = t(oricu$measure)[,-1]\n",
    "oricu"
   ]
  },
  {
   "cell_type": "code",
   "execution_count": 121,
   "id": "fe104e11-59dd-43da-8b6a-dbb05719f122",
   "metadata": {},
   "outputs": [
    {
     "data": {
      "image/png": "[encoded data removed]",
      "text/plain": [
       "Plot with title \"Risk Ratios (95%CI) of symptomatic COVID-19 infection by age\""
      ]
     },
     "metadata": {},
     "output_type": "display_data"
    }
   ],
   "source": [
    "boxplot(ORicu, \n",
    "        horizontal = TRUE, \n",
    "        main = \"Risk Ratios (95%CI) of symptomatic COVID-19 infection by age\",\n",
    "        xlab = \"Risk Ratio\",\n",
    "        ylab = \"Age Range\")"
   ]
  },
  {
   "cell_type": "code",
   "execution_count": 118,
   "id": "0726f29a-85bf-4959-bb31-bef054087ddc",
   "metadata": {},
   "outputs": [
    {
     "data": {
      "text/html": [
       "<dl>\n",
       "\t<dt>$data</dt>\n",
       "\t\t<dd><table>\n",
       "<thead><tr><th></th><th scope=col>0</th><th scope=col>1</th><th scope=col>Total</th></tr></thead>\n",
       "<tbody>\n",
       "\t<tr><th scope=row>18 to 49 years</th><td> 749</td><td> 7  </td><td> 756</td></tr>\n",
       "\t<tr><th scope=row>50 to 64 years</th><td> 362</td><td>24  </td><td> 386</td></tr>\n",
       "\t<tr><th scope=row>65+ years</th><td> 558</td><td>60  </td><td> 618</td></tr>\n",
       "\t<tr><th scope=row>Total</th><td>1669</td><td>91  </td><td>1760</td></tr>\n",
       "</tbody>\n",
       "</table>\n",
       "</dd>\n",
       "\t<dt>$measure</dt>\n",
       "\t\t<dd><table>\n",
       "<thead><tr><th></th><th scope=col>estimate</th><th scope=col>lower</th><th scope=col>upper</th></tr></thead>\n",
       "<tbody>\n",
       "\t<tr><th scope=row>18 to 49 years</th><td> 1.000000</td><td>      NA </td><td>      NA </td></tr>\n",
       "\t<tr><th scope=row>50 to 64 years</th><td> 6.715026</td><td>2.919454 </td><td>15.44521 </td></tr>\n",
       "\t<tr><th scope=row>65+ years</th><td>10.485437</td><td>4.827934 </td><td>22.77256 </td></tr>\n",
       "</tbody>\n",
       "</table>\n",
       "</dd>\n",
       "\t<dt>$p.value</dt>\n",
       "\t\t<dd><table>\n",
       "<thead><tr><th></th><th scope=col>midp.exact</th><th scope=col>fisher.exact</th><th scope=col>chi.square</th></tr></thead>\n",
       "<tbody>\n",
       "\t<tr><th scope=row>18 to 49 years</th><td>          NA</td><td>          NA</td><td>          NA</td></tr>\n",
       "\t<tr><th scope=row>50 to 64 years</th><td>6.672230e-07</td><td>5.896204e-07</td><td>1.937033e-07</td></tr>\n",
       "\t<tr><th scope=row>65+ years</th><td>6.217249e-15</td><td>7.576619e-15</td><td>5.485574e-14</td></tr>\n",
       "</tbody>\n",
       "</table>\n",
       "</dd>\n",
       "\t<dt>$correction</dt>\n",
       "\t\t<dd>FALSE</dd>\n",
       "</dl>\n"
      ],
      "text/latex": [
       "\\begin{description}\n",
       "\\item[\\$data] \\begin{tabular}{r|lll}\n",
       "  & 0 & 1 & Total\\\\\n",
       "\\hline\n",
       "\t18 to 49 years &  749 &  7   &  756\\\\\n",
       "\t50 to 64 years &  362 & 24   &  386\\\\\n",
       "\t65+ years &  558 & 60   &  618\\\\\n",
       "\tTotal & 1669 & 91   & 1760\\\\\n",
       "\\end{tabular}\n",
       "\n",
       "\\item[\\$measure] \\begin{tabular}{r|lll}\n",
       "  & estimate & lower & upper\\\\\n",
       "\\hline\n",
       "\t18 to 49 years &  1.000000 &       NA  &       NA \\\\\n",
       "\t50 to 64 years &  6.715026 & 2.919454  & 15.44521 \\\\\n",
       "\t65+ years & 10.485437 & 4.827934  & 22.77256 \\\\\n",
       "\\end{tabular}\n",
       "\n",
       "\\item[\\$p.value] \\begin{tabular}{r|lll}\n",
       "  & midp.exact & fisher.exact & chi.square\\\\\n",
       "\\hline\n",
       "\t18 to 49 years &           NA &           NA &           NA\\\\\n",
       "\t50 to 64 years & 6.672230e-07 & 5.896204e-07 & 1.937033e-07\\\\\n",
       "\t65+ years & 6.217249e-15 & 7.576619e-15 & 5.485574e-14\\\\\n",
       "\\end{tabular}\n",
       "\n",
       "\\item[\\$correction] FALSE\n",
       "\\end{description}\n"
      ],
      "text/markdown": [
       "$data\n",
       ":   \n",
       "| <!--/--> | 0 | 1 | Total |\n",
       "|---|---|---|---|\n",
       "| 18 to 49 years |  749 |  7   |  756 |\n",
       "| 50 to 64 years |  362 | 24   |  386 |\n",
       "| 65+ years |  558 | 60   |  618 |\n",
       "| Total | 1669 | 91   | 1760 |\n",
       "\n",
       "\n",
       "$measure\n",
       ":   \n",
       "| <!--/--> | estimate | lower | upper |\n",
       "|---|---|---|---|\n",
       "| 18 to 49 years |  1.000000 |       NA  |       NA  |\n",
       "| 50 to 64 years |  6.715026 | 2.919454  | 15.44521  |\n",
       "| 65+ years | 10.485437 | 4.827934  | 22.77256  |\n",
       "\n",
       "\n",
       "$p.value\n",
       ":   \n",
       "| <!--/--> | midp.exact | fisher.exact | chi.square |\n",
       "|---|---|---|---|\n",
       "| 18 to 49 years |           NA |           NA |           NA |\n",
       "| 50 to 64 years | 6.672230e-07 | 5.896204e-07 | 1.937033e-07 |\n",
       "| 65+ years | 6.217249e-15 | 7.576619e-15 | 5.485574e-14 |\n",
       "\n",
       "\n",
       "$correction\n",
       ":   FALSE\n",
       "\n",
       "\n"
      ],
      "text/plain": [
       "$data\n",
       "                \n",
       "                    0  1 Total\n",
       "  18 to 49 years  749  7   756\n",
       "  50 to 64 years  362 24   386\n",
       "  65+ years       558 60   618\n",
       "  Total          1669 91  1760\n",
       "\n",
       "$measure\n",
       "                risk ratio with 95% C.I.\n",
       "                  estimate    lower    upper\n",
       "  18 to 49 years  1.000000       NA       NA\n",
       "  50 to 64 years  6.715026 2.919454 15.44521\n",
       "  65+ years      10.485437 4.827934 22.77256\n",
       "\n",
       "$p.value\n",
       "                two-sided\n",
       "                   midp.exact fisher.exact   chi.square\n",
       "  18 to 49 years           NA           NA           NA\n",
       "  50 to 64 years 6.672230e-07 5.896204e-07 1.937033e-07\n",
       "  65+ years      6.217249e-15 7.576619e-15 5.485574e-14\n",
       "\n",
       "$correction\n",
       "[1] FALSE\n",
       "\n",
       "attr(,\"method\")\n",
       "[1] \"Unconditional MLE & normal approximation (Wald) CI\""
      ]
     },
     "metadata": {},
     "output_type": "display_data"
    }
   ],
   "source": [
    "rricu = riskratio(ageicu)\n",
    "RRicu = t(rricu$measure)[,-1]\n",
    "rricu"
   ]
  },
  {
   "cell_type": "code",
   "execution_count": 119,
   "id": "10dfe568-dee6-4278-890d-bd33f949a1d3",
   "metadata": {},
   "outputs": [
    {
     "data": {
      "image/png": "[encoded data removed]",
      "text/plain": [
       "Plot with title \"Risk Ratios (95%CI) of symptomatic COVID-19 infection by age\""
      ]
     },
     "metadata": {},
     "output_type": "display_data"
    }
   ],
   "source": [
    "boxplot(RRicu, \n",
    "        horizontal = TRUE, \n",
    "        main = \"Risk Ratios (95%CI) of symptomatic COVID-19 infection by age\",\n",
    "        xlab = \"Risk Ratio\",\n",
    "        ylab = \"Age Range\")"
   ]
  },
  {
   "cell_type": "code",
   "execution_count": 125,
   "id": "bdc6e70b-4897-4361-a140-1311a8a4215b",
   "metadata": {},
   "outputs": [
    {
     "data": {
      "text/plain": [
       "                \n",
       "                   0   1\n",
       "  18 to 49 years 955   0\n",
       "  50 to 64 years 353   0\n",
       "  65+ years      484 263"
      ]
     },
     "metadata": {},
     "output_type": "display_data"
    }
   ],
   "source": [
    "deaths <- adults[!adults$death == \"\", ]\n",
    "death = table(deaths$age_group, deaths$death)[-1:-2,]\n",
    "agedeath = death[-4,]\n",
    "agedeath"
   ]
  }
 ],
 "metadata": {
  "kernelspec": {
   "display_name": "R",
   "language": "R",
   "name": "ir"
  },
  "language_info": {
   "codemirror_mode": "r",
   "file_extension": ".r",
   "mimetype": "text/x-r-source",
   "name": "R",
   "pygments_lexer": "r",
   "version": "3.6.1"
  }
 },
 "nbformat": 4,
 "nbformat_minor": 5
}
