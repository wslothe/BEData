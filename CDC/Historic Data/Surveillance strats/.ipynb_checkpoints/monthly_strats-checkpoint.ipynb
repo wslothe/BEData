{
 "cells": [
  {
   "cell_type": "code",
   "execution_count": 1,
   "id": "dbce8a53-1a09-4643-a65a-3f4c7773cfd6",
   "metadata": {},
   "outputs": [],
   "source": [
    "import numpy as np\n",
    "import pandas as pd"
   ]
  },
  {
   "cell_type": "code",
   "execution_count": null,
   "id": "f1e9505e-8b5e-48fc-84ac-f6af7ac01350",
   "metadata": {},
   "outputs": [],
   "source": [
    "#stratifying 2020 cases by month\n",
    "cases_data = pd.read_csv('cases_2020.csv')\n",
    "cases_2020_df = pd.DataFrame.from_dict(cases_data)\n",
    "cases_2020_03_df = cases_2020_df[(cases_2020_df['case_month'] == '2020-03')]\n",
    "cases_2020_03_df.to_csv('cases_2020_03.csv', index=False)\n",
    "cases_2020_04_df = cases_2020_df[(cases_2020_df['case_month'] == '2020-04')]\n",
    "cases_2020_04_df.to_csv('cases_2020_04.csv', index=False)\n",
    "cases_2020_05_df = cases_2020_df[(cases_2020_df['case_month'] == '2020-05')]\n",
    "cases_2020_05_df.to_csv('cases_2020_05.csv', index=False)\n",
    "cases_2020_06_df = cases_2020_df[(cases_2020_df['case_month'] == '2020-06')]\n",
    "cases_2020_06_df.to_csv('cases_2020_06.csv', index=False)\n",
    "cases_2020_07_df = cases_2020_df[(cases_2020_df['case_month'] == '2020-07')]\n",
    "cases_2020_07_df.to_csv('cases_2020_07.csv', index=False)\n",
    "cases_2020_08_df = cases_2020_df[(cases_2020_df['case_month'] == '2020-08')]\n",
    "cases_2020_08_df.to_csv('cases_2020_08.csv', index=False)\n",
    "cases_2020_09_df = cases_2020_df[(cases_2020_df['case_month'] == '2020-09')]\n",
    "cases_2020_09_df.to_csv('cases_2020_09.csv', index=False)\n",
    "cases_2020_10_df = cases_2020_df[(cases_2020_df['case_month'] == '2020-10')]\n",
    "cases_2020_10_df.to_csv('cases_2020_10.csv', index=False)\n",
    "cases_2020_11_df = cases_2020_df[(cases_2020_df['case_month'] == '2020-11')]\n",
    "cases_2020_11_df.to_csv('cases_2020_11.csv', index=False)\n",
    "cases_2020_12_df = cases_2020_df[(cases_2020_df['case_month'] == '2020-12')]\n",
    "cases_2020_12_df.to_csv('cases_2020_12.csv', index=False)"
   ]
  },
  {
   "cell_type": "code",
   "execution_count": 154,
   "id": "7e875767-df78-45df-812d-c600c42af82e",
   "metadata": {},
   "outputs": [],
   "source": [
    "#counting the number of cases in each age range in each month\n",
    "df_2020_03_ages = cases_2020_03_df['age_group'].value_counts(dropna=False)\n",
    "df_2020_03_ages = df_2020_03_ages.reindex(index=['0 - 17 years', '18 to 49 years', '50 to 64 years', '65+ years', 'Missing', ''])\n",
    "df_2020_04_ages = cases_2020_04_df['age_group'].value_counts(dropna=False)\n",
    "df_2020_04_ages = df_2020_04_ages.reindex(index=['0 - 17 years', '18 to 49 years', '50 to 64 years', '65+ years', 'Missing'])\n",
    "df_2020_05_ages = cases_2020_05_df['age_group'].value_counts(dropna=False)\n",
    "df_2020_05_ages = df_2020_05_ages.reindex(index=['0 - 17 years', '18 to 49 years', '50 to 64 years', '65+ years', 'Missing'])\n",
    "df_2020_06_ages = cases_2020_06_df['age_group'].value_counts(dropna=False)\n",
    "df_2020_06_ages = df_2020_06_ages.reindex(index=['0 - 17 years', '18 to 49 years', '50 to 64 years', '65+ years', 'Missing'])\n",
    "df_2020_07_ages = cases_2020_07_df['age_group'].value_counts(dropna=False)\n",
    "df_2020_07_ages = df_2020_07_ages.reindex(index=['0 - 17 years', '18 to 49 years', '50 to 64 years', '65+ years', 'Missing'])\n",
    "df_2020_08_ages = cases_2020_08_df['age_group'].value_counts(dropna=False)\n",
    "df_2020_08_ages = df_2020_08_ages.reindex(index=['0 - 17 years', '18 to 49 years', '50 to 64 years', '65+ years', 'Missing'])\n",
    "df_2020_09_ages = cases_2020_09_df['age_group'].value_counts(dropna=False)\n",
    "df_2020_09_ages = df_2020_09_ages.reindex(index=['0 - 17 years', '18 to 49 years', '50 to 64 years', '65+ years', 'Missing'])\n",
    "df_2020_10_ages = cases_2020_10_df['age_group'].value_counts(dropna=False)\n",
    "df_2020_10_ages = df_2020_10_ages.reindex(index=['0 - 17 years', '18 to 49 years', '50 to 64 years', '65+ years', 'Missing'])\n",
    "df_2020_11_ages = cases_2020_11_df['age_group'].value_counts(dropna=False)\n",
    "df_2020_11_ages = df_2020_11_ages.reindex(index=['0 - 17 years', '18 to 49 years', '50 to 64 years', '65+ years', 'Missing'])\n",
    "df_2020_12_ages = cases_2020_12_df['age_group'].value_counts(dropna=False)\n",
    "df_2020_12_ages = df_2020_12_ages.reindex(index=['0 - 17 years', '18 to 49 years', '50 to 64 years', '65+ years', 'Missing'])"
   ]
  },
  {
   "cell_type": "code",
   "execution_count": 215,
   "id": "9618fd84-4ecc-4895-babb-b9465d87793f",
   "metadata": {},
   "outputs": [],
   "source": [
    "#counting the number of cases by sex in each month\n",
    "march_sex = cases_2020_03_df['sex'].value_counts(dropna=False)\n",
    "march_sex = march_sex.reindex(index=['Male', 'Female', 'Unknown'])\n",
    "april_sex = cases_2020_04_df['sex'].value_counts(dropna=False)\n",
    "april_sex = april_sex.reindex(index=['Male', 'Female', 'Unknown'])\n",
    "may_sex = cases_2020_05_df['sex'].value_counts(dropna=False)\n",
    "may_sex = may_sex.reindex(index=['Male', 'Female', 'Unknown'])\n",
    "june_sex = cases_2020_06_df['sex'].value_counts(dropna=False)\n",
    "june_sex = june_sex.reindex(index=['Male', 'Female', 'Unknown'])\n",
    "july_sex = cases_2020_07_df['sex'].value_counts(dropna=False)\n",
    "july_sex = july_sex.reindex(index=['Male', 'Female', 'Unknown'])\n",
    "august_sex = cases_2020_08_df['sex'].value_counts(dropna=False)\n",
    "august_sex = august_sex.reindex(index=['Male', 'Female', 'Unknown'])\n",
    "september_sex = cases_2020_09_df['sex'].value_counts(dropna=False)\n",
    "september_sex = september_sex.reindex(index=['Male', 'Female', 'Unknown'])\n",
    "october_sex = cases_2020_10_df['sex'].value_counts(dropna=False)\n",
    "october_sex = october_sex.reindex(index=['Male', 'Female', 'Unknown'])\n",
    "november_sex = cases_2020_11_df['sex'].value_counts(dropna=False)\n",
    "november_sex = november_sex.reindex(index=['Male', 'Female', 'Unknown'])\n",
    "december_sex = cases_2020_12_df['sex'].value_counts(dropna=False)\n",
    "december_sex = december_sex.reindex(index=['Male', 'Female', 'Unknown'])"
   ]
  },
  {
   "cell_type": "code",
   "execution_count": 217,
   "id": "a4059b8a-75c3-46c1-8393-874e434ea234",
   "metadata": {},
   "outputs": [],
   "source": [
    "#putting all of that into a dataframe\n",
    "ages_2020 = pd.concat([df_2020_03_ages, march_sex, df_2020_04_ages, april_sex, df_2020_05_ages, may_sex, df_2020_06_ages, june_sex, df_2020_07_ages, july_sex, df_2020_08_ages, august_sex, df_2020_09_ages, september_sex, df_2020_10_ages, october_sex, df_2020_11_ages, november_sex, df_2020_12_ages, december_sex], axis=1, ignore_index=True)\n",
    "df_ages_2020 = pd.DataFrame.from_dict(ages_2020)\n",
    "df_ages_2020.columns = ['March', ' ', 'April', ' ', 'May', ' ', 'June', ' ', 'July', ' ', 'August', ' ', 'September', ' ', 'October', ' ', 'November', ' ', 'December', ' ']\n",
    "df_ages_2020.to_csv('cases_by_age_2020.csv')"
   ]
  },
  {
   "cell_type": "code",
   "execution_count": 191,
   "id": "7085c3cc-e5a4-4fcb-b9c8-ca08b6523954",
   "metadata": {},
   "outputs": [],
   "source": [
    "#counting the number of cases in each age range in each month\n",
    "march_symptomatic = cases_2020_03_df.groupby('age_group')['symptom_status'].value_counts(dropna=False).to_frame()\n",
    "april_symptomatic = cases_2020_04_df.groupby('age_group')['symptom_status'].value_counts(dropna=False).to_frame()\n",
    "may_symptomatic = cases_2020_05_df.groupby('age_group')['symptom_status'].value_counts(dropna=False).to_frame()\n",
    "june_symptomatic = cases_2020_06_df.groupby('age_group')['symptom_status'].value_counts(dropna=False).to_frame()\n",
    "july_symptomatic = cases_2020_07_df.groupby('age_group')['symptom_status'].value_counts(dropna=False).to_frame()\n",
    "august_symptomatic = cases_2020_08_df.groupby('age_group')['symptom_status'].value_counts(dropna=False).to_frame()\n",
    "september_symptomatic = cases_2020_09_df.groupby('age_group')['symptom_status'].value_counts(dropna=False).to_frame()\n",
    "october_symptomatic = cases_2020_10_df.groupby('age_group')['symptom_status'].value_counts(dropna=False).to_frame()\n",
    "november_symptomatic = cases_2020_11_df.groupby('age_group')['symptom_status'].value_counts(dropna=False).to_frame()\n",
    "december_symptomatic = cases_2020_12_df.groupby('age_group')['symptom_status'].value_counts(dropna=False).to_frame()"
   ]
  },
  {
   "cell_type": "code",
   "execution_count": 195,
   "id": "b63f0722-8136-487b-ba85-6813158a5026",
   "metadata": {},
   "outputs": [],
   "source": [
    "#moving all symptomatic strats into a single dataframe\n",
    "symptoms_2020 = pd.concat([march_symptomatic, april_symptomatic, may_symptomatic, june_symptomatic, july_symptomatic, august_symptomatic, september_symptomatic, october_symptomatic, november_symptomatic, december_symptomatic], axis=1, ignore_index=True)\n",
    "symptoms_2020.columns = ['March', 'April', 'May', 'June', 'July', 'August', 'September', 'October', 'November', 'December'] #making headers\n",
    "symptoms_2020.to_csv('symptoms_2020.csv')"
   ]
  },
  {
   "cell_type": "code",
   "execution_count": 197,
   "id": "0bb6fecd-736b-473e-8da5-33bd87a4458a",
   "metadata": {},
   "outputs": [],
   "source": [
    "#counting the number of hospital admissions in each age range in each month\n",
    "march_hospital = cases_2020_03_df.groupby('age_group')['hosp_yn'].value_counts(dropna=False).to_frame()\n",
    "april_hospital = cases_2020_04_df.groupby('age_group')['hosp_yn'].value_counts(dropna=False).to_frame()\n",
    "may_hospital = cases_2020_05_df.groupby('age_group')['hosp_yn'].value_counts(dropna=False).to_frame()\n",
    "june_hospital = cases_2020_06_df.groupby('age_group')['hosp_yn'].value_counts(dropna=False).to_frame()\n",
    "july_hospital = cases_2020_07_df.groupby('age_group')['hosp_yn'].value_counts(dropna=False).to_frame()\n",
    "august_hospital = cases_2020_08_df.groupby('age_group')['hosp_yn'].value_counts(dropna=False).to_frame()\n",
    "september_hospital = cases_2020_09_df.groupby('age_group')['hosp_yn'].value_counts(dropna=False).to_frame()\n",
    "october_hospital = cases_2020_10_df.groupby('age_group')['hosp_yn'].value_counts(dropna=False).to_frame()\n",
    "november_hospital = cases_2020_11_df.groupby('age_group')['hosp_yn'].value_counts(dropna=False).to_frame()\n",
    "december_hospital = cases_2020_12_df.groupby('age_group')['hosp_yn'].value_counts(dropna=False).to_frame()"
   ]
  },
  {
   "cell_type": "code",
   "execution_count": 205,
   "id": "75200ee3-72c3-4401-91a2-28bcd92f206b",
   "metadata": {},
   "outputs": [],
   "source": [
    "#counting the number of hospital admissions by sex in each month\n",
    "march_sex_hospital = cases_2020_03_df.groupby('sex')['hosp_yn'].value_counts(dropna=False).to_frame()\n",
    "april_sex_hospital = cases_2020_04_df.groupby('sex')['hosp_yn'].value_counts(dropna=False).to_frame()\n",
    "#may_sex_hospital = cases_2020_05_df.groupby('sex')['hosp_yn'].value_counts()\n",
    "june_sex_hospital = cases_2020_06_df.groupby('sex')['hosp_yn'].value_counts(dropna=False).to_frame()\n",
    "july_sex_hospital = cases_2020_07_df.groupby('sex')['hosp_yn'].value_counts(dropna=False).to_frame()\n",
    "august_sex_hospital = cases_2020_08_df.groupby('sex')['hosp_yn'].value_counts(dropna=False).to_frame()\n",
    "september_sex_hospital = cases_2020_09_df.groupby('sex')['hosp_yn'].value_counts(dropna=False).to_frame()\n",
    "october_sex_hospital = cases_2020_10_df.groupby('sex')['hosp_yn'].value_counts(dropna=False).to_frame()\n",
    "november_sex_hospital = cases_2020_11_df.groupby('sex')['hosp_yn'].value_counts(dropna=False).to_frame()\n",
    "december_sex_hospital = cases_2020_12_df.groupby('sex')['hosp_yn'].value_counts(dropna=False).to_frame()"
   ]
  },
  {
   "cell_type": "code",
   "execution_count": 208,
   "id": "02e7a4d1-de63-43b3-a5e2-67da7c7a6a10",
   "metadata": {},
   "outputs": [],
   "source": [
    "#moving all hospital admit strats into a single dataframe\n",
    "hospital_2020 = pd.concat([march_hospital, march_sex_hospital, april_hospital, april_sex_hospital, may_hospital, june_hospital, june_sex_hospital, july_hospital, july_sex_hospital, august_hospital, august_sex_hospital, september_hospital, september_sex_hospital, october_hospital, october_sex_hospital, november_hospital, november_sex_hospital, december_hospital, december_sex_hospital], axis=1, ignore_index=True)\n",
    "hospital_2020.columns = ['March', ' ', 'April', ' ', 'May', 'June', ' ', 'July', ' ', 'August', ' ', 'September', ' ', 'October', ' ', 'November', ' ', 'December', ' '] #making headers\n",
    "hospital_2020.to_csv('hospital_2020.csv')"
   ]
  },
  {
   "cell_type": "code",
   "execution_count": 196,
   "id": "0a56dab7-c142-46d3-ac45-d9ed019a519c",
   "metadata": {},
   "outputs": [
    {
     "name": "stdout",
     "output_type": "stream",
     "text": [
      "                        icu_yn\n",
      "age_group      icu_yn         \n",
      "0 - 17 years   Unknown     214\n",
      "               No           39\n",
      "18 to 49 years Unknown    1917\n",
      "               No           50\n",
      "50 to 64 years Unknown    1072\n",
      "               No           24\n",
      "               Yes           4\n",
      "65+ years      Unknown     997\n",
      "               No           41\n",
      "               Yes          11\n"
     ]
    }
   ],
   "source": [
    "#counting the number of icu admissions in each age range in each month\n",
    "march_icu = cases_2020_03_df.groupby('age_group')['icu_yn'].value_counts(dropna=False).to_frame()\n",
    "april_icu = cases_2020_04_df.groupby('age_group')['icu_yn'].value_counts(dropna=False).to_frame()\n",
    "may_icu = cases_2020_05_df.groupby('age_group')['icu_yn'].value_counts(dropna=False).to_frame()\n",
    "june_icu = cases_2020_06_df.groupby('age_group')['icu_yn'].value_counts(dropna=False).to_frame()\n",
    "july_icu = cases_2020_07_df.groupby('age_group')['icu_yn'].value_counts(dropna=False).to_frame()\n",
    "august_icu = cases_2020_08_df.groupby('age_group')['icu_yn'].value_counts(dropna=False).to_frame()\n",
    "september_icu = cases_2020_09_df.groupby('age_group')['icu_yn'].value_counts(dropna=False).to_frame()\n",
    "october_icu = cases_2020_10_df.groupby('age_group')['icu_yn'].value_counts(dropna=False).to_frame()\n",
    "november_icu = cases_2020_11_df.groupby('age_group')['icu_yn'].value_counts(dropna=False).to_frame()\n",
    "december_icu = cases_2020_12_df.groupby('age_group')['icu_yn'].value_counts(dropna=False).to_frame()"
   ]
  },
  {
   "cell_type": "code",
   "execution_count": 219,
   "id": "02cdb654-7853-419e-90e9-423077c00b70",
   "metadata": {},
   "outputs": [],
   "source": [
    "#counting the number of icu admissions in each age range in each month\n",
    "march_icu_sex = cases_2020_03_df.groupby('sex')['icu_yn'].value_counts(dropna=False).to_frame()\n",
    "april_icu_sex = cases_2020_04_df.groupby('sex')['icu_yn'].value_counts(dropna=False).to_frame()\n",
    "#may_icu_sex = cases_2020_05_df.groupby('sex')['icu_yn'].value_counts(dropna=False).to_frame()\n",
    "june_icu_sex = cases_2020_06_df.groupby('sex')['icu_yn'].value_counts(dropna=False).to_frame()\n",
    "july_icu_sex = cases_2020_07_df.groupby('sex')['icu_yn'].value_counts(dropna=False).to_frame()\n",
    "august_icu_sex = cases_2020_08_df.groupby('sex')['icu_yn'].value_counts(dropna=False).to_frame()\n",
    "september_icu_sex = cases_2020_09_df.groupby('sex')['icu_yn'].value_counts(dropna=False).to_frame()\n",
    "october_icu_sex = cases_2020_10_df.groupby('sex')['icu_yn'].value_counts(dropna=False).to_frame()\n",
    "november_icu_sex = cases_2020_11_df.groupby('sex')['icu_yn'].value_counts(dropna=False).to_frame()\n",
    "december_icu_sex = cases_2020_12_df.groupby('sex')['icu_yn'].value_counts(dropna=False).to_frame()"
   ]
  },
  {
   "cell_type": "code",
   "execution_count": 220,
   "id": "657683b8-aec7-49e7-8769-15b9f4de43b2",
   "metadata": {},
   "outputs": [],
   "source": [
    "#moving all icu admit strats into a single dataframe\n",
    "icu_2020 = pd.concat([march_icu, march_icu_sex, april_icu, april_icu_sex, may_icu, june_icu, june_icu_sex, july_icu, july_icu_sex, august_icu, august_icu_sex, september_icu, september_icu_sex, october_icu, october_icu_sex, november_icu, november_icu_sex, december_icu, december_icu_sex], axis=1, ignore_index=True)\n",
    "icu_2020.columns = ['March', ' ', 'April', ' ', 'May', 'June', ' ', 'July', ' ', 'August', ' ', 'September', ' ', 'October', ' ', 'November', ' ', 'December', ' '] #making headers\n",
    "icu_2020.to_csv('icu_2020.csv')"
   ]
  }
 ],
 "metadata": {
  "kernelspec": {
   "display_name": "Python 3",
   "language": "python",
   "name": "python3"
  },
  "language_info": {
   "codemirror_mode": {
    "name": "ipython",
    "version": 3
   },
   "file_extension": ".py",
   "mimetype": "text/x-python",
   "name": "python",
   "nbconvert_exporter": "python",
   "pygments_lexer": "ipython3",
   "version": "3.8.8"
  }
 },
 "nbformat": 4,
 "nbformat_minor": 5
}
