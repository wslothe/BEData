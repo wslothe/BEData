{
 "cells": [
  {
   "cell_type": "code",
   "execution_count": 20,
   "id": "c8e5e7c2-d7f4-412a-996f-d92b24c262d2",
   "metadata": {},
   "outputs": [],
   "source": [
    "import pandas as pd\n",
    "import censusdata\n",
    "import time"
   ]
  },
  {
   "cell_type": "code",
   "execution_count": 2,
   "id": "95fccee7-ee80-4e8a-95f9-d7bfc2d971f5",
   "metadata": {},
   "outputs": [],
   "source": [
    "r1 = 16001\n",
    "r2 = 16066\n",
    "ziplist = list(range(r1, r2+1))\n",
    "zips = ','.join(str(e) for e in ziplist)"
   ]
  },
  {
   "cell_type": "code",
   "execution_count": 3,
   "id": "80a81326-84e4-44ce-b43d-ce21c321cbe6",
   "metadata": {},
   "outputs": [],
   "source": [
    "bczips = censusdata.download('acs5', 2019,\n",
    "                             censusdata.censusgeo([('state', '42'), ('zip code tabulation area', zips)]),\n",
    "                             ['B01001_001E'])"
   ]
  },
  {
   "cell_type": "code",
   "execution_count": 4,
   "id": "8a02f6e4-b0d6-4d73-99e3-91aaaa24fbe8",
   "metadata": {},
   "outputs": [
    {
     "data": {
      "text/html": [
       "<div>\n",
       "<style scoped>\n",
       "    .dataframe tbody tr th:only-of-type {\n",
       "        vertical-align: middle;\n",
       "    }\n",
       "\n",
       "    .dataframe tbody tr th {\n",
       "        vertical-align: top;\n",
       "    }\n",
       "\n",
       "    .dataframe thead th {\n",
       "        text-align: right;\n",
       "    }\n",
       "</style>\n",
       "<table border=\"1\" class=\"dataframe\">\n",
       "  <thead>\n",
       "    <tr style=\"text-align: right;\">\n",
       "      <th></th>\n",
       "      <th>B01001_001E</th>\n",
       "    </tr>\n",
       "  </thead>\n",
       "  <tbody>\n",
       "    <tr>\n",
       "      <th>16035</th>\n",
       "      <td>146</td>\n",
       "    </tr>\n",
       "    <tr>\n",
       "      <th>16040</th>\n",
       "      <td>1023</td>\n",
       "    </tr>\n",
       "    <tr>\n",
       "      <th>16061</th>\n",
       "      <td>2556</td>\n",
       "    </tr>\n",
       "    <tr>\n",
       "      <th>16048</th>\n",
       "      <td>142</td>\n",
       "    </tr>\n",
       "    <tr>\n",
       "      <th>16002</th>\n",
       "      <td>15257</td>\n",
       "    </tr>\n",
       "  </tbody>\n",
       "</table>\n",
       "</div>"
      ],
      "text/plain": [
       "       B01001_001E\n",
       "16035          146\n",
       "16040         1023\n",
       "16061         2556\n",
       "16048          142\n",
       "16002        15257"
      ]
     },
     "execution_count": 4,
     "metadata": {},
     "output_type": "execute_result"
    }
   ],
   "source": [
    "bczips.index = bczips.index.astype('str')\n",
    "bczips.index = bczips.index.str[:11]\n",
    "bczips.index = bczips.index.str[-5:]\n",
    "bczips.head()"
   ]
  },
  {
   "cell_type": "code",
   "execution_count": 5,
   "id": "fe3f5dac-e10f-43c7-ba73-2ee185eebf7c",
   "metadata": {},
   "outputs": [
    {
     "data": {
      "text/html": [
       "<div>\n",
       "<style scoped>\n",
       "    .dataframe tbody tr th:only-of-type {\n",
       "        vertical-align: middle;\n",
       "    }\n",
       "\n",
       "    .dataframe tbody tr th {\n",
       "        vertical-align: top;\n",
       "    }\n",
       "\n",
       "    .dataframe thead th {\n",
       "        text-align: right;\n",
       "    }\n",
       "</style>\n",
       "<table border=\"1\" class=\"dataframe\">\n",
       "  <thead>\n",
       "    <tr style=\"text-align: right;\">\n",
       "      <th></th>\n",
       "      <th>index</th>\n",
       "      <th>B01001_001E</th>\n",
       "    </tr>\n",
       "  </thead>\n",
       "  <tbody>\n",
       "    <tr>\n",
       "      <th>0</th>\n",
       "      <td>16035</td>\n",
       "      <td>146</td>\n",
       "    </tr>\n",
       "    <tr>\n",
       "      <th>1</th>\n",
       "      <td>16040</td>\n",
       "      <td>1023</td>\n",
       "    </tr>\n",
       "    <tr>\n",
       "      <th>2</th>\n",
       "      <td>16061</td>\n",
       "      <td>2556</td>\n",
       "    </tr>\n",
       "    <tr>\n",
       "      <th>3</th>\n",
       "      <td>16048</td>\n",
       "      <td>142</td>\n",
       "    </tr>\n",
       "    <tr>\n",
       "      <th>4</th>\n",
       "      <td>16002</td>\n",
       "      <td>15257</td>\n",
       "    </tr>\n",
       "  </tbody>\n",
       "</table>\n",
       "</div>"
      ],
      "text/plain": [
       "   index  B01001_001E\n",
       "0  16035          146\n",
       "1  16040         1023\n",
       "2  16061         2556\n",
       "3  16048          142\n",
       "4  16002        15257"
      ]
     },
     "execution_count": 5,
     "metadata": {},
     "output_type": "execute_result"
    }
   ],
   "source": [
    "bczips = bczips.reset_index()\n",
    "bczips.head()"
   ]
  },
  {
   "cell_type": "code",
   "execution_count": 8,
   "id": "b96dad5c-2a5d-47f2-883d-25676b094fb9",
   "metadata": {},
   "outputs": [
    {
     "data": {
      "text/html": [
       "<div>\n",
       "<style scoped>\n",
       "    .dataframe tbody tr th:only-of-type {\n",
       "        vertical-align: middle;\n",
       "    }\n",
       "\n",
       "    .dataframe tbody tr th {\n",
       "        vertical-align: top;\n",
       "    }\n",
       "\n",
       "    .dataframe thead th {\n",
       "        text-align: right;\n",
       "    }\n",
       "</style>\n",
       "<table border=\"1\" class=\"dataframe\">\n",
       "  <thead>\n",
       "    <tr style=\"text-align: right;\">\n",
       "      <th></th>\n",
       "      <th>B01001_001E</th>\n",
       "    </tr>\n",
       "    <tr>\n",
       "      <th>index</th>\n",
       "      <th></th>\n",
       "    </tr>\n",
       "  </thead>\n",
       "  <tbody>\n",
       "    <tr>\n",
       "      <th>16035</th>\n",
       "      <td>146.0</td>\n",
       "    </tr>\n",
       "    <tr>\n",
       "      <th>16040</th>\n",
       "      <td>1023.0</td>\n",
       "    </tr>\n",
       "    <tr>\n",
       "      <th>16061</th>\n",
       "      <td>2556.0</td>\n",
       "    </tr>\n",
       "    <tr>\n",
       "      <th>16048</th>\n",
       "      <td>142.0</td>\n",
       "    </tr>\n",
       "    <tr>\n",
       "      <th>16002</th>\n",
       "      <td>15257.0</td>\n",
       "    </tr>\n",
       "  </tbody>\n",
       "</table>\n",
       "</div>"
      ],
      "text/plain": [
       "       B01001_001E\n",
       "index             \n",
       "16035        146.0\n",
       "16040       1023.0\n",
       "16061       2556.0\n",
       "16048        142.0\n",
       "16002      15257.0"
      ]
     },
     "execution_count": 8,
     "metadata": {},
     "output_type": "execute_result"
    }
   ],
   "source": [
    "blankZips = [pd.Series([16003, None], index=bczips.columns),\n",
    "             pd.Series([16018, None], index=bczips.columns),\n",
    "             pd.Series([16039, None], index=bczips.columns),\n",
    "             pd.Series([16058, None], index=bczips.columns)]\n",
    "bczips = bczips.append(blankZips, ignore_index = True)\n",
    "#bczips.index = bczips.index + 4\n",
    "#bczips.loc[35] = [16003, None]\n",
    "#bczips.loc[36] = [16018, None]\n",
    "#bczips.loc[37] = [16039, None]\n",
    "#bczips.loc[38] = [16058, None]\n",
    "bczips = bczips.set_index('index')\n",
    "bczips.index = bczips.index.astype('int')"
   ]
  },
  {
   "cell_type": "code",
   "execution_count": 16,
   "id": "23e9ef54-445c-48a5-8ea7-6ddc705b0589",
   "metadata": {},
   "outputs": [],
   "source": [
    "bczips = bczips.sort_index()\n",
    "bczips = bczips.reset_index(drop = True)"
   ]
  },
  {
   "cell_type": "code",
   "execution_count": 28,
   "id": "356c23bc-3b77-4b3a-9ec7-8abc8c6f94ef",
   "metadata": {},
   "outputs": [],
   "source": [
    "datestr = time.strftime(\"%Y%m%d\")\n",
    "zip_cases_name = (datestr + \"_zip_cases.csv\")\n",
    "zip_cases = pd.read_csv(zip_cases_name)\n",
    "zip_cases['Population'] = bczips['B01001_001E']\n",
    "zip_cases.head()\n",
    "zip_cases.to_csv(zip_cases_name, index=False)"
   ]
  },
  {
   "cell_type": "code",
   "execution_count": null,
   "id": "f18d3bf0-20f1-4ac6-b874-10602f92ad59",
   "metadata": {},
   "outputs": [],
   "source": []
  }
 ],
 "metadata": {
  "kernelspec": {
   "display_name": "Python 3",
   "language": "python",
   "name": "python3"
  },
  "language_info": {
   "codemirror_mode": {
    "name": "ipython",
    "version": 3
   },
   "file_extension": ".py",
   "mimetype": "text/x-python",
   "name": "python",
   "nbconvert_exporter": "python",
   "pygments_lexer": "ipython3",
   "version": "3.8.8"
  }
 },
 "nbformat": 4,
 "nbformat_minor": 5
}
