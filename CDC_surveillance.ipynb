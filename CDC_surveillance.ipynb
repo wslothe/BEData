{
 "cells": [
  {
   "cell_type": "code",
   "execution_count": 1,
   "id": "3d718a2f-50c5-41fa-a6e4-b04e8b6bba70",
   "metadata": {},
   "outputs": [],
   "source": [
    "import os\n",
    "import pandas as pd\n",
    "import numpy as np\n",
    "\n",
    "from sodapy import Socrata\n",
    "from urllib.request import Request, urlopen"
   ]
  },
  {
   "cell_type": "code",
   "execution_count": 2,
   "id": "06263f8c-f6db-409f-a0f2-16b2870ca851",
   "metadata": {},
   "outputs": [],
   "source": [
    "cdc_domain = 'data.cdc.gov'\n",
    "surveillance_ident = 'n8mc-b4w4'\n",
    "socrata_token = os.environ.get(\"socrata_token\")"
   ]
  },
  {
   "cell_type": "code",
   "execution_count": 3,
   "id": "271de286-ba4b-44fb-9518-1f5516bced2a",
   "metadata": {},
   "outputs": [
    {
     "name": "stderr",
     "output_type": "stream",
     "text": [
      "WARNING:root:Requests made without an app_token will be subject to strict throttling limits.\n"
     ]
    }
   ],
   "source": [
    "client = Socrata (cdc_domain, socrata_token)"
   ]
  },
  {
   "cell_type": "code",
   "execution_count": 4,
   "id": "284e7838-36b0-42f4-ad37-7c908ca6084e",
   "metadata": {},
   "outputs": [],
   "source": [
    "#retrieving all surveillance data for Butler County\n",
    "cases_results = client.get(surveillance_ident, \n",
    "                           where=\"county_fips_code = '42019'\",  \n",
    "                           order='case_month DESC',\n",
    "                           limit=100000)\n",
    "cdc_cases_df = pd.DataFrame.from_dict(cases_results)\n",
    "cdc_cases_df.to_csv('cdc_surveillance.csv', index=False)"
   ]
  },
  {
   "cell_type": "code",
   "execution_count": 5,
   "id": "eba1e91c-030a-4a2f-bf06-beaf50bb5a93",
   "metadata": {},
   "outputs": [],
   "source": [
    "#filtering CDC data to show who is symptomatic, has been hospitalized, and has ended up in ICU.\n",
    "cdc_symptoms_df = cdc_cases_df[(cdc_cases_df.symptom_status == \"Symptomatic\")]\n",
    "cdc_symptoms_df.to_csv('cdc_symptomatic_cases.csv', index=False)\n",
    "\n",
    "cdc_hospital_df = cdc_cases_df[(cdc_cases_df.hosp_yn == \"Yes\")]\n",
    "cdc_hospital_df.to_csv('cdc_hospitalizations.csv', index=False)\n",
    "\n",
    "cdc_icu_df = cdc_cases_df[(cdc_cases_df.icu_yn == 'Yes')]\n",
    "cdc_icu_df.to_csv('cdc_icu.csv', index=False)"
   ]
  }
 ],
 "metadata": {
  "kernelspec": {
   "display_name": "Python 3",
   "language": "python",
   "name": "python3"
  },
  "language_info": {
   "codemirror_mode": {
    "name": "ipython",
    "version": 3
   },
   "file_extension": ".py",
   "mimetype": "text/x-python",
   "name": "python",
   "nbconvert_exporter": "python",
   "pygments_lexer": "ipython3",
   "version": "3.8.8"
  }
 },
 "nbformat": 4,
 "nbformat_minor": 5
}
