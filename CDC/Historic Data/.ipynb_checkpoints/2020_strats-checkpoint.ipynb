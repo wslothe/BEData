{
 "cells": [
  {
   "cell_type": "code",
   "execution_count": 1,
   "id": "dbce8a53-1a09-4643-a65a-3f4c7773cfd6",
   "metadata": {},
   "outputs": [],
   "source": [
    "import numpy as np\n",
    "import pandas as pd"
   ]
  },
  {
   "cell_type": "code",
   "execution_count": 6,
   "id": "f1e9505e-8b5e-48fc-84ac-f6af7ac01350",
   "metadata": {},
   "outputs": [],
   "source": [
    "#stratifying 2020 cases\n",
    "cases_data = pd.read_csv('cdc_surveillance.csv')\n",
    "cases_df = pd.DataFrame.from_dict(cases_data)\n",
    "cases_2020_df = cases_df[(cases_df['case_month'] > '2020-01') & (cases_df['case_month'] <= '2020-12')]\n",
    "cases_2020_df.to_csv('cases_2020.csv', index=False)"
   ]
  },
  {
   "cell_type": "code",
   "execution_count": 5,
   "id": "6b4cc597-9f72-492c-be98-3c9290b0351c",
   "metadata": {},
   "outputs": [],
   "source": [
    "#stratifying 2020 symptomatic cases\n",
    "symptom_data = pd.read_csv('cdc_symptomatic_cases.csv')\n",
    "symptom_df = pd.DataFrame.from_dict(symptom_data)\n",
    "symptom_2020_df = symptom_df[(symptom_df['case_month'] > '2020-01') & (symptom_df['case_month'] <= '2020-12')]\n",
    "symptom_2020_df.to_csv('symptomatic_cases_2020.csv', index=False)"
   ]
  },
  {
   "cell_type": "code",
   "execution_count": 7,
   "id": "d9a97f60-3952-4e5f-b40d-c175b03a83ef",
   "metadata": {},
   "outputs": [],
   "source": [
    "#stratifying 2020 hospitalizations\n",
    "hospital_data = pd.read_csv('cdc_hospitalizations.csv')\n",
    "hospital_df = pd.DataFrame.from_dict(hospital_data)\n",
    "hospital_2020_df = hospital_df[(hospital_df['case_month'] > '2020-01') & (hospital_df['case_month'] <= '2020-12')]\n",
    "hospital_2020_df.to_csv('hospitalizations_2020.csv', index=False)"
   ]
  },
  {
   "cell_type": "code",
   "execution_count": 8,
   "id": "9ea63e96-57b4-431a-b1d2-5179f00f0531",
   "metadata": {},
   "outputs": [],
   "source": [
    "#stratifying 2020 icu admits\n",
    "icu_data = pd.read_csv('cdc_icu.csv')\n",
    "icu_df = pd.DataFrame.from_dict(icu_data)\n",
    "icu_2020_df = icu_df[(icu_df['case_month'] > '2020-01') & (icu_df['case_month'] <= '2020-12')]\n",
    "icu_2020_df.to_csv('icu_admits_2020.csv', index=False)"
   ]
  }
 ],
 "metadata": {
  "kernelspec": {
   "display_name": "Python 3",
   "language": "python",
   "name": "python3"
  },
  "language_info": {
   "codemirror_mode": {
    "name": "ipython",
    "version": 3
   },
   "file_extension": ".py",
   "mimetype": "text/x-python",
   "name": "python",
   "nbconvert_exporter": "python",
   "pygments_lexer": "ipython3",
   "version": "3.8.8"
  }
 },
 "nbformat": 4,
 "nbformat_minor": 5
}
