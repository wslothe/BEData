{
 "cells": [
  {
   "cell_type": "code",
   "execution_count": 1,
   "id": "9fecc2a4-8aa0-4abc-9252-bd93be7159fb",
   "metadata": {},
   "outputs": [],
   "source": [
    "import numpy as np\n",
    "import pandas as pd"
   ]
  },
  {
   "cell_type": "code",
   "execution_count": 2,
   "id": "bf48d105-f888-45b8-bfe1-1d7fc75fe10b",
   "metadata": {},
   "outputs": [],
   "source": [
    "#stratifying 2021 cases\n",
    "cases_data = pd.read_csv('cdc_surveillance.csv')\n",
    "cases_df = pd.DataFrame.from_dict(cases_data)\n",
    "cases_2021_df = cases_df[(cases_df['case_month'] >= '2021-01')]\n",
    "cases_2021_df.to_csv('cases_2021.csv', index=False)"
   ]
  },
  {
   "cell_type": "code",
   "execution_count": 3,
   "id": "f1277835-1595-4fa6-ad96-21af2e66239a",
   "metadata": {},
   "outputs": [],
   "source": [
    "#stratifying 2021 symptomatic cases\n",
    "symptom_data = pd.read_csv('cdc_symptomatic_cases.csv')\n",
    "symptom_df = pd.DataFrame.from_dict(symptom_data)\n",
    "symptom_2021_df = symptom_df[(symptom_df['case_month'] >= '2021-01')]\n",
    "symptom_2021_df.to_csv('symptomatic_cases_2021.csv', index=False)"
   ]
  },
  {
   "cell_type": "code",
   "execution_count": 4,
   "id": "252df66c-750f-41b7-bd7d-1218c78ef5ff",
   "metadata": {},
   "outputs": [],
   "source": [
    "#stratifying 2020 hospitalizations\n",
    "hospital_data = pd.read_csv('cdc_hospitalizations.csv')\n",
    "hospital_df = pd.DataFrame.from_dict(hospital_data)\n",
    "hospital_2021_df = hospital_df[(hospital_df['case_month'] >= '2021-01')]\n",
    "hospital_2021_df.to_csv('hospitalizations_2021.csv', index=False)"
   ]
  },
  {
   "cell_type": "code",
   "execution_count": 5,
   "id": "a749876f-38e4-4b93-8226-dfbb0dd4496d",
   "metadata": {},
   "outputs": [],
   "source": [
    "#stratifying 2021 icu admits\n",
    "icu_data = pd.read_csv('cdc_icu.csv')\n",
    "icu_df = pd.DataFrame.from_dict(icu_data)\n",
    "icu_2021_df = icu_df[(icu_df['case_month'] >= '2021-01')]\n",
    "icu_2021_df.to_csv('icu_admits_2021.csv', index=False)"
   ]
  },
  {
   "cell_type": "code",
   "execution_count": 6,
   "id": "03da9c81-8302-4be1-9fe0-97671fe48ade",
   "metadata": {},
   "outputs": [],
   "source": [
    "#stratifying 2021 deaths\n",
    "death_data = pd.read_csv('cdc_deaths.csv')\n",
    "death_df = pd.DataFrame.from_dict(death_data)\n",
    "death_2021_df = death_df[(death_df['case_month'] >= '2021-01')]\n",
    "death_2021_df.to_csv('deaths_2021.csv', index=False)"
   ]
  }
 ],
 "metadata": {
  "kernelspec": {
   "display_name": "Python 3",
   "language": "python",
   "name": "python3"
  },
  "language_info": {
   "codemirror_mode": {
    "name": "ipython",
    "version": 3
   },
   "file_extension": ".py",
   "mimetype": "text/x-python",
   "name": "python",
   "nbconvert_exporter": "python",
   "pygments_lexer": "ipython3",
   "version": "3.8.8"
  }
 },
 "nbformat": 4,
 "nbformat_minor": 5
}
